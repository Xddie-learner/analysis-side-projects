{
 "cells": [
  {
   "cell_type": "code",
   "execution_count": 1,
   "id": "5cc9e58d-5119-4a32-8e9e-ecb9a624aa38",
   "metadata": {},
   "outputs": [],
   "source": [
    "import pandas as pd\n",
    "import numpy as np \n",
    "import seaborn as sns"
   ]
  },
  {
   "cell_type": "code",
   "execution_count": 2,
   "id": "e6e2c189-ded1-4a68-8336-53f5b78b6dd2",
   "metadata": {},
   "outputs": [],
   "source": [
    "import matplotlib.pyplot as plt\n",
    "%matplotlib inline"
   ]
  },
  {
   "cell_type": "code",
   "execution_count": 3,
   "id": "e67a7b20-d104-4f33-abff-08d0fc3b2b11",
   "metadata": {},
   "outputs": [],
   "source": [
    "mypath = r\"C:\\Users\\Eddie\\OneDrive\\Desktop\\Python\\Python for Data Analysis\\Practices\\Data Statistics\\election analysis\\American Election\\Election data\\Election_Donor_Data.csv\""
   ]
  },
  {
   "cell_type": "code",
   "execution_count": 4,
   "id": "522cbe32-7adb-48f3-be6f-5bd20b612446",
   "metadata": {},
   "outputs": [],
   "source": [
    "df = pd.read_csv(mypath, low_memory= False)"
   ]
  },
  {
   "cell_type": "code",
   "execution_count": 5,
   "id": "04df34ee-aab0-42f6-9c14-9727dcda25bc",
   "metadata": {},
   "outputs": [
    {
     "data": {
      "text/html": [
       "<div>\n",
       "<style scoped>\n",
       "    .dataframe tbody tr th:only-of-type {\n",
       "        vertical-align: middle;\n",
       "    }\n",
       "\n",
       "    .dataframe tbody tr th {\n",
       "        vertical-align: top;\n",
       "    }\n",
       "\n",
       "    .dataframe thead th {\n",
       "        text-align: right;\n",
       "    }\n",
       "</style>\n",
       "<table border=\"1\" class=\"dataframe\">\n",
       "  <thead>\n",
       "    <tr style=\"text-align: right;\">\n",
       "      <th></th>\n",
       "      <th>cmte_id</th>\n",
       "      <th>cand_id</th>\n",
       "      <th>cand_nm</th>\n",
       "      <th>contbr_nm</th>\n",
       "      <th>contbr_city</th>\n",
       "      <th>contbr_st</th>\n",
       "      <th>contbr_zip</th>\n",
       "      <th>contbr_employer</th>\n",
       "      <th>contbr_occupation</th>\n",
       "      <th>contb_receipt_amt</th>\n",
       "      <th>contb_receipt_dt</th>\n",
       "      <th>receipt_desc</th>\n",
       "      <th>memo_cd</th>\n",
       "      <th>memo_text</th>\n",
       "      <th>form_tp</th>\n",
       "      <th>file_num</th>\n",
       "    </tr>\n",
       "  </thead>\n",
       "  <tbody>\n",
       "    <tr>\n",
       "      <th>0</th>\n",
       "      <td>C00410118</td>\n",
       "      <td>P20002978</td>\n",
       "      <td>Bachmann, Michelle</td>\n",
       "      <td>HARVEY, WILLIAM</td>\n",
       "      <td>MOBILE</td>\n",
       "      <td>AL</td>\n",
       "      <td>366010290</td>\n",
       "      <td>RETIRED</td>\n",
       "      <td>RETIRED</td>\n",
       "      <td>250.0</td>\n",
       "      <td>20-JUN-11</td>\n",
       "      <td>NaN</td>\n",
       "      <td>NaN</td>\n",
       "      <td>NaN</td>\n",
       "      <td>SA17A</td>\n",
       "      <td>736166</td>\n",
       "    </tr>\n",
       "    <tr>\n",
       "      <th>1</th>\n",
       "      <td>C00410118</td>\n",
       "      <td>P20002978</td>\n",
       "      <td>Bachmann, Michelle</td>\n",
       "      <td>HARVEY, WILLIAM</td>\n",
       "      <td>MOBILE</td>\n",
       "      <td>AL</td>\n",
       "      <td>366010290</td>\n",
       "      <td>RETIRED</td>\n",
       "      <td>RETIRED</td>\n",
       "      <td>50.0</td>\n",
       "      <td>23-JUN-11</td>\n",
       "      <td>NaN</td>\n",
       "      <td>NaN</td>\n",
       "      <td>NaN</td>\n",
       "      <td>SA17A</td>\n",
       "      <td>736166</td>\n",
       "    </tr>\n",
       "    <tr>\n",
       "      <th>2</th>\n",
       "      <td>C00410118</td>\n",
       "      <td>P20002978</td>\n",
       "      <td>Bachmann, Michelle</td>\n",
       "      <td>SMITH, LANIER</td>\n",
       "      <td>LANETT</td>\n",
       "      <td>AL</td>\n",
       "      <td>368633403</td>\n",
       "      <td>INFORMATION REQUESTED</td>\n",
       "      <td>INFORMATION REQUESTED</td>\n",
       "      <td>250.0</td>\n",
       "      <td>05-JUL-11</td>\n",
       "      <td>NaN</td>\n",
       "      <td>NaN</td>\n",
       "      <td>NaN</td>\n",
       "      <td>SA17A</td>\n",
       "      <td>749073</td>\n",
       "    </tr>\n",
       "    <tr>\n",
       "      <th>3</th>\n",
       "      <td>C00410118</td>\n",
       "      <td>P20002978</td>\n",
       "      <td>Bachmann, Michelle</td>\n",
       "      <td>BLEVINS, DARONDA</td>\n",
       "      <td>PIGGOTT</td>\n",
       "      <td>AR</td>\n",
       "      <td>724548253</td>\n",
       "      <td>NONE</td>\n",
       "      <td>RETIRED</td>\n",
       "      <td>250.0</td>\n",
       "      <td>01-AUG-11</td>\n",
       "      <td>NaN</td>\n",
       "      <td>NaN</td>\n",
       "      <td>NaN</td>\n",
       "      <td>SA17A</td>\n",
       "      <td>749073</td>\n",
       "    </tr>\n",
       "    <tr>\n",
       "      <th>4</th>\n",
       "      <td>C00410118</td>\n",
       "      <td>P20002978</td>\n",
       "      <td>Bachmann, Michelle</td>\n",
       "      <td>WARDENBURG, HAROLD</td>\n",
       "      <td>HOT SPRINGS NATION</td>\n",
       "      <td>AR</td>\n",
       "      <td>719016467</td>\n",
       "      <td>NONE</td>\n",
       "      <td>RETIRED</td>\n",
       "      <td>300.0</td>\n",
       "      <td>20-JUN-11</td>\n",
       "      <td>NaN</td>\n",
       "      <td>NaN</td>\n",
       "      <td>NaN</td>\n",
       "      <td>SA17A</td>\n",
       "      <td>736166</td>\n",
       "    </tr>\n",
       "  </tbody>\n",
       "</table>\n",
       "</div>"
      ],
      "text/plain": [
       "     cmte_id    cand_id             cand_nm           contbr_nm  \\\n",
       "0  C00410118  P20002978  Bachmann, Michelle     HARVEY, WILLIAM   \n",
       "1  C00410118  P20002978  Bachmann, Michelle     HARVEY, WILLIAM   \n",
       "2  C00410118  P20002978  Bachmann, Michelle       SMITH, LANIER   \n",
       "3  C00410118  P20002978  Bachmann, Michelle    BLEVINS, DARONDA   \n",
       "4  C00410118  P20002978  Bachmann, Michelle  WARDENBURG, HAROLD   \n",
       "\n",
       "          contbr_city contbr_st contbr_zip        contbr_employer  \\\n",
       "0              MOBILE        AL  366010290                RETIRED   \n",
       "1              MOBILE        AL  366010290                RETIRED   \n",
       "2              LANETT        AL  368633403  INFORMATION REQUESTED   \n",
       "3             PIGGOTT        AR  724548253                   NONE   \n",
       "4  HOT SPRINGS NATION        AR  719016467                   NONE   \n",
       "\n",
       "       contbr_occupation  contb_receipt_amt contb_receipt_dt receipt_desc  \\\n",
       "0                RETIRED              250.0        20-JUN-11          NaN   \n",
       "1                RETIRED               50.0        23-JUN-11          NaN   \n",
       "2  INFORMATION REQUESTED              250.0        05-JUL-11          NaN   \n",
       "3                RETIRED              250.0        01-AUG-11          NaN   \n",
       "4                RETIRED              300.0        20-JUN-11          NaN   \n",
       "\n",
       "  memo_cd memo_text form_tp  file_num  \n",
       "0     NaN       NaN   SA17A    736166  \n",
       "1     NaN       NaN   SA17A    736166  \n",
       "2     NaN       NaN   SA17A    749073  \n",
       "3     NaN       NaN   SA17A    749073  \n",
       "4     NaN       NaN   SA17A    736166  "
      ]
     },
     "execution_count": 5,
     "metadata": {},
     "output_type": "execute_result"
    }
   ],
   "source": [
    "df.head()"
   ]
  },
  {
   "cell_type": "code",
   "execution_count": 6,
   "id": "f753b53f-cd1b-4a05-89b2-75e727c140a7",
   "metadata": {},
   "outputs": [
    {
     "data": {
      "text/plain": [
       "Index(['cmte_id', 'cand_id', 'cand_nm', 'contbr_nm', 'contbr_city',\n",
       "       'contbr_st', 'contbr_zip', 'contbr_employer', 'contbr_occupation',\n",
       "       'contb_receipt_amt', 'contb_receipt_dt', 'receipt_desc', 'memo_cd',\n",
       "       'memo_text', 'form_tp', 'file_num'],\n",
       "      dtype='object')"
      ]
     },
     "execution_count": 6,
     "metadata": {},
     "output_type": "execute_result"
    }
   ],
   "source": [
    "df.columns"
   ]
  },
  {
   "cell_type": "code",
   "execution_count": 7,
   "id": "3fb81f92-e589-423f-8de9-a7ec89d22e86",
   "metadata": {},
   "outputs": [],
   "source": [
    "df = df[[#'cmte_id', 'cand_id',\n",
    "         'cand_nm', 'contbr_nm', 'contbr_city',\n",
    "         'contbr_st', #'contbr_zip',\n",
    "         'contbr_employer', 'contbr_occupation',\n",
    "         'contb_receipt_amt', 'contb_receipt_dt', \n",
    "        # 'receipt_desc', 'memo_cd','memo_text', 'form_tp', 'file_num'\n",
    "        ]]"
   ]
  },
  {
   "cell_type": "code",
   "execution_count": 8,
   "id": "76b0f957-374c-416e-be5e-7d009e678acb",
   "metadata": {},
   "outputs": [
    {
     "data": {
      "text/html": [
       "<div>\n",
       "<style scoped>\n",
       "    .dataframe tbody tr th:only-of-type {\n",
       "        vertical-align: middle;\n",
       "    }\n",
       "\n",
       "    .dataframe tbody tr th {\n",
       "        vertical-align: top;\n",
       "    }\n",
       "\n",
       "    .dataframe thead th {\n",
       "        text-align: right;\n",
       "    }\n",
       "</style>\n",
       "<table border=\"1\" class=\"dataframe\">\n",
       "  <thead>\n",
       "    <tr style=\"text-align: right;\">\n",
       "      <th></th>\n",
       "      <th>cand_nm</th>\n",
       "      <th>contbr_nm</th>\n",
       "      <th>contbr_city</th>\n",
       "      <th>contbr_st</th>\n",
       "      <th>contbr_employer</th>\n",
       "      <th>contbr_occupation</th>\n",
       "      <th>contb_receipt_amt</th>\n",
       "      <th>contb_receipt_dt</th>\n",
       "    </tr>\n",
       "  </thead>\n",
       "  <tbody>\n",
       "    <tr>\n",
       "      <th>0</th>\n",
       "      <td>Bachmann, Michelle</td>\n",
       "      <td>HARVEY, WILLIAM</td>\n",
       "      <td>MOBILE</td>\n",
       "      <td>AL</td>\n",
       "      <td>RETIRED</td>\n",
       "      <td>RETIRED</td>\n",
       "      <td>250.0</td>\n",
       "      <td>20-JUN-11</td>\n",
       "    </tr>\n",
       "    <tr>\n",
       "      <th>1</th>\n",
       "      <td>Bachmann, Michelle</td>\n",
       "      <td>HARVEY, WILLIAM</td>\n",
       "      <td>MOBILE</td>\n",
       "      <td>AL</td>\n",
       "      <td>RETIRED</td>\n",
       "      <td>RETIRED</td>\n",
       "      <td>50.0</td>\n",
       "      <td>23-JUN-11</td>\n",
       "    </tr>\n",
       "    <tr>\n",
       "      <th>2</th>\n",
       "      <td>Bachmann, Michelle</td>\n",
       "      <td>SMITH, LANIER</td>\n",
       "      <td>LANETT</td>\n",
       "      <td>AL</td>\n",
       "      <td>INFORMATION REQUESTED</td>\n",
       "      <td>INFORMATION REQUESTED</td>\n",
       "      <td>250.0</td>\n",
       "      <td>05-JUL-11</td>\n",
       "    </tr>\n",
       "    <tr>\n",
       "      <th>3</th>\n",
       "      <td>Bachmann, Michelle</td>\n",
       "      <td>BLEVINS, DARONDA</td>\n",
       "      <td>PIGGOTT</td>\n",
       "      <td>AR</td>\n",
       "      <td>NONE</td>\n",
       "      <td>RETIRED</td>\n",
       "      <td>250.0</td>\n",
       "      <td>01-AUG-11</td>\n",
       "    </tr>\n",
       "    <tr>\n",
       "      <th>4</th>\n",
       "      <td>Bachmann, Michelle</td>\n",
       "      <td>WARDENBURG, HAROLD</td>\n",
       "      <td>HOT SPRINGS NATION</td>\n",
       "      <td>AR</td>\n",
       "      <td>NONE</td>\n",
       "      <td>RETIRED</td>\n",
       "      <td>300.0</td>\n",
       "      <td>20-JUN-11</td>\n",
       "    </tr>\n",
       "  </tbody>\n",
       "</table>\n",
       "</div>"
      ],
      "text/plain": [
       "              cand_nm           contbr_nm         contbr_city contbr_st  \\\n",
       "0  Bachmann, Michelle     HARVEY, WILLIAM              MOBILE        AL   \n",
       "1  Bachmann, Michelle     HARVEY, WILLIAM              MOBILE        AL   \n",
       "2  Bachmann, Michelle       SMITH, LANIER              LANETT        AL   \n",
       "3  Bachmann, Michelle    BLEVINS, DARONDA             PIGGOTT        AR   \n",
       "4  Bachmann, Michelle  WARDENBURG, HAROLD  HOT SPRINGS NATION        AR   \n",
       "\n",
       "         contbr_employer      contbr_occupation  contb_receipt_amt  \\\n",
       "0                RETIRED                RETIRED              250.0   \n",
       "1                RETIRED                RETIRED               50.0   \n",
       "2  INFORMATION REQUESTED  INFORMATION REQUESTED              250.0   \n",
       "3                   NONE                RETIRED              250.0   \n",
       "4                   NONE                RETIRED              300.0   \n",
       "\n",
       "  contb_receipt_dt  \n",
       "0        20-JUN-11  \n",
       "1        23-JUN-11  \n",
       "2        05-JUL-11  \n",
       "3        01-AUG-11  \n",
       "4        20-JUN-11  "
      ]
     },
     "execution_count": 8,
     "metadata": {},
     "output_type": "execute_result"
    }
   ],
   "source": [
    "df.head()"
   ]
  },
  {
   "cell_type": "markdown",
   "id": "226ae591-42bd-41ac-a41e-94b4d69ffb0c",
   "metadata": {
    "jp-MarkdownHeadingCollapsed": true
   },
   "source": [
    "# How much was donated and what was the average donation ?"
   ]
  },
  {
   "cell_type": "code",
   "execution_count": 9,
   "id": "20d309c2-e9bd-4d1a-b91d-c5f704106cbe",
   "metadata": {},
   "outputs": [
    {
     "name": "stdout",
     "output_type": "stream",
     "text": [
      "<class 'pandas.core.frame.DataFrame'>\n",
      "RangeIndex: 1001731 entries, 0 to 1001730\n",
      "Data columns (total 8 columns):\n",
      " #   Column             Non-Null Count    Dtype  \n",
      "---  ------             --------------    -----  \n",
      " 0   cand_nm            1001731 non-null  object \n",
      " 1   contbr_nm          1001731 non-null  object \n",
      " 2   contbr_city        1001712 non-null  object \n",
      " 3   contbr_st          1001727 non-null  object \n",
      " 4   contbr_employer    988002 non-null   object \n",
      " 5   contbr_occupation  993301 non-null   object \n",
      " 6   contb_receipt_amt  1001731 non-null  float64\n",
      " 7   contb_receipt_dt   1001731 non-null  object \n",
      "dtypes: float64(1), object(7)\n",
      "memory usage: 61.1+ MB\n"
     ]
    }
   ],
   "source": [
    "df.info()"
   ]
  },
  {
   "cell_type": "code",
   "execution_count": 10,
   "id": "57d80d78-fcdf-45b2-a2d6-01e63e793cac",
   "metadata": {},
   "outputs": [
    {
     "data": {
      "text/plain": [
       "contb_receipt_amt\n",
       " 100.00     178188\n",
       " 50.00      137584\n",
       " 25.00      110345\n",
       " 250.00      91182\n",
       " 500.00      57984\n",
       "             ...  \n",
       " 386.10          1\n",
       "-113.40          1\n",
       " 1385.00         1\n",
       " 43.98           1\n",
       " 2408.79         1\n",
       "Name: count, Length: 8079, dtype: int64"
      ]
     },
     "execution_count": 10,
     "metadata": {},
     "output_type": "execute_result"
    }
   ],
   "source": [
    "df[\"contb_receipt_amt\"].value_counts()"
   ]
  },
  {
   "cell_type": "code",
   "execution_count": 11,
   "id": "b692de91-99e1-481f-8696-b1ecaa76a453",
   "metadata": {},
   "outputs": [
    {
     "data": {
      "text/plain": [
       "298.2351500951853"
      ]
     },
     "execution_count": 11,
     "metadata": {},
     "output_type": "execute_result"
    }
   ],
   "source": [
    "df[\"contb_receipt_amt\"].mean()"
   ]
  },
  {
   "cell_type": "code",
   "execution_count": 12,
   "id": "92958e41-6174-4b6f-8bca-323fb7e0b763",
   "metadata": {},
   "outputs": [],
   "source": [
    "# the average donation of each donor is around $298"
   ]
  },
  {
   "cell_type": "code",
   "execution_count": 13,
   "id": "81a3c101-62b5-4222-a23f-aece38c8cbcd",
   "metadata": {},
   "outputs": [
    {
     "data": {
      "text/plain": [
       "3749.666723269043"
      ]
     },
     "execution_count": 13,
     "metadata": {},
     "output_type": "execute_result"
    }
   ],
   "source": [
    "df[\"contb_receipt_amt\"].std()"
   ]
  },
  {
   "cell_type": "code",
   "execution_count": 14,
   "id": "31eac47e-3cdc-42f0-9a68-8322819d0bf5",
   "metadata": {},
   "outputs": [],
   "source": [
    "# that a huge std, meaning there is other large donors messing up with the distribution of the donations."
   ]
  },
  {
   "cell_type": "code",
   "execution_count": 15,
   "id": "ee1c9ba5-6e2d-471b-aad7-46890921a0ea",
   "metadata": {},
   "outputs": [
    {
     "name": "stdout",
     "output_type": "stream",
     "text": [
      "The average donation of each donor was $298.24 with a std $3749.67\n"
     ]
    }
   ],
   "source": [
    "print(f\"The average donation of each donor was ${df[\"contb_receipt_amt\"].mean():.2f} with a std ${df[\"contb_receipt_amt\"].std():.2f}\")"
   ]
  },
  {
   "cell_type": "code",
   "execution_count": 16,
   "id": "c75515cd-0abe-40d0-9b59-661e63e2d667",
   "metadata": {},
   "outputs": [],
   "source": [
    "top_donors = df[\"contb_receipt_amt\"].copy()"
   ]
  },
  {
   "cell_type": "code",
   "execution_count": 17,
   "id": "cbd68e1b-4e2c-4c5b-a6fd-e0ceab436a01",
   "metadata": {},
   "outputs": [
    {
     "data": {
      "text/plain": [
       "0           250.0\n",
       "1            50.0\n",
       "2           250.0\n",
       "3           250.0\n",
       "4           300.0\n",
       "            ...  \n",
       "1001726    5000.0\n",
       "1001727    2500.0\n",
       "1001728     500.0\n",
       "1001729     500.0\n",
       "1001730    2500.0\n",
       "Name: contb_receipt_amt, Length: 1001731, dtype: float64"
      ]
     },
     "execution_count": 17,
     "metadata": {},
     "output_type": "execute_result"
    }
   ],
   "source": [
    "top_donors"
   ]
  },
  {
   "cell_type": "code",
   "execution_count": 18,
   "id": "27e43caa-ae86-4a1a-a7ce-758b3a4d4d79",
   "metadata": {},
   "outputs": [
    {
     "data": {
      "text/plain": [
       "114604     -30800.00\n",
       "226986     -25800.00\n",
       "101356      -7500.00\n",
       "398429      -5500.00\n",
       "250737      -5455.00\n",
       "             ...    \n",
       "319478     526246.17\n",
       "344419    1511192.17\n",
       "344539    1679114.65\n",
       "326651    1944042.43\n",
       "325136    2014490.51\n",
       "Name: contb_receipt_amt, Length: 1001731, dtype: float64"
      ]
     },
     "execution_count": 18,
     "metadata": {},
     "output_type": "execute_result"
    }
   ],
   "source": [
    "top_donors.sort_values()"
   ]
  },
  {
   "cell_type": "code",
   "execution_count": 19,
   "id": "24746e5c-a5e6-4cb1-b1ca-0060a311923f",
   "metadata": {},
   "outputs": [],
   "source": [
    "# we can notice that there were some negative values, and they are quite large in this dataset\n",
    "\n",
    "# The reason is because that FEC records refund in the contribution receipt amount"
   ]
  },
  {
   "cell_type": "code",
   "execution_count": 20,
   "id": "95583e8c-9b2c-48fb-8a36-4ab93ddc539c",
   "metadata": {},
   "outputs": [
    {
     "data": {
      "text/plain": [
       "335573          0.01\n",
       "335407          0.01\n",
       "335352          0.01\n",
       "324596          0.01\n",
       "329896          0.01\n",
       "             ...    \n",
       "319478     526246.17\n",
       "344419    1511192.17\n",
       "344539    1679114.65\n",
       "326651    1944042.43\n",
       "325136    2014490.51\n",
       "Name: contb_receipt_amt, Length: 991475, dtype: float64"
      ]
     },
     "execution_count": 20,
     "metadata": {},
     "output_type": "execute_result"
    }
   ],
   "source": [
    "top_donors = top_donors[top_donors > 0]\n",
    "\n",
    "top_donors.sort_values()"
   ]
  },
  {
   "cell_type": "code",
   "execution_count": 21,
   "id": "fdb86aa6-effa-4bc0-9ba8-572c53eae3b6",
   "metadata": {},
   "outputs": [],
   "source": [
    "# look for top 10 common donate amount"
   ]
  },
  {
   "cell_type": "code",
   "execution_count": 22,
   "id": "802bfcc7-24ae-45bf-9077-f78a0cd16842",
   "metadata": {},
   "outputs": [
    {
     "data": {
      "text/plain": [
       "contb_receipt_amt\n",
       "100.0     178188\n",
       "50.0      137584\n",
       "25.0      110345\n",
       "250.0      91182\n",
       "500.0      57984\n",
       "2500.0     49005\n",
       "35.0       37237\n",
       "1000.0     36494\n",
       "10.0       33986\n",
       "200.0      27813\n",
       "Name: count, dtype: int64"
      ]
     },
     "execution_count": 22,
     "metadata": {},
     "output_type": "execute_result"
    }
   ],
   "source": [
    "top_donors.value_counts().head(10)"
   ]
  },
  {
   "cell_type": "code",
   "execution_count": 23,
   "id": "87f6792a-96c9-4304-81ee-c05e0fd88eac",
   "metadata": {},
   "outputs": [],
   "source": [
    "# create a series of common donations\n",
    "\n",
    "# we want to verify if the donations were likely to be round number like 10, 20, 15"
   ]
  },
  {
   "cell_type": "code",
   "execution_count": 24,
   "id": "a45077cd-01dc-4130-a9b7-9d1c26481c09",
   "metadata": {},
   "outputs": [],
   "source": [
    "common_don = top_donors[top_donors < 2600]"
   ]
  },
  {
   "cell_type": "code",
   "execution_count": 25,
   "id": "b7da7f16-50cf-4c3b-b2c6-3f296a6f6e32",
   "metadata": {},
   "outputs": [
    {
     "data": {
      "text/plain": [
       "<Axes: >"
      ]
     },
     "execution_count": 25,
     "metadata": {},
     "output_type": "execute_result"
    }
   ],
   "source": [
    "common_don.hist(bins = 50)"
   ]
  },
  {
   "cell_type": "code",
   "execution_count": 26,
   "id": "33b2be38-4275-4be6-8128-dc6a90422fcc",
   "metadata": {},
   "outputs": [
    {
     "data": {
      "image/png": "[encoded data removed]",
      "text/plain": [
       "<Figure size 640x480 with 1 Axes>"
      ]
     },
     "metadata": {},
     "output_type": "display_data"
    }
   ],
   "source": [
    "plt.show()"
   ]
  },
  {
   "cell_type": "markdown",
   "id": "2abaf9c2-3dfb-485c-8f94-8e3a42739640",
   "metadata": {},
   "source": [
    "# Donation separated by candidates and by parties"
   ]
  },
  {
   "cell_type": "code",
   "execution_count": 27,
   "id": "744ec417-697e-4786-80e3-796a3bfabdda",
   "metadata": {},
   "outputs": [],
   "source": [
    "# create a new party column with data of candidates and their affiliations "
   ]
  },
  {
   "cell_type": "code",
   "execution_count": 28,
   "id": "8984de18-b337-4773-a00e-35137659ff4b",
   "metadata": {},
   "outputs": [],
   "source": [
    "candidates = df.cand_nm.unique()\n",
    "# unique() return unique values in that column"
   ]
  },
  {
   "cell_type": "code",
   "execution_count": 29,
   "id": "411d4152-161f-434c-b8aa-2b90b9610f16",
   "metadata": {},
   "outputs": [
    {
     "data": {
      "text/plain": [
       "array(['Bachmann, Michelle', 'Romney, Mitt', 'Obama, Barack',\n",
       "       \"Roemer, Charles E. 'Buddy' III\", 'Pawlenty, Timothy',\n",
       "       'Johnson, Gary Earl', 'Paul, Ron', 'Santorum, Rick',\n",
       "       'Cain, Herman', 'Gingrich, Newt', 'McCotter, Thaddeus G',\n",
       "       'Huntsman, Jon', 'Perry, Rick'], dtype=object)"
      ]
     },
     "execution_count": 29,
     "metadata": {},
     "output_type": "execute_result"
    }
   ],
   "source": [
    "candidates"
   ]
  },
  {
   "cell_type": "code",
   "execution_count": 30,
   "id": "f2e73a00-a405-43e6-8cc9-67518d5f4dc8",
   "metadata": {},
   "outputs": [],
   "source": [
    "# Affiliation of each candidate\n",
    "party_map = {'Bachmann, Michelle': 'Republican',\n",
    "           'Cain, Herman': 'Republican',\n",
    "           'Gingrich, Newt': 'Republican',\n",
    "           'Huntsman, Jon': 'Republican',\n",
    "           'Johnson, Gary Earl': 'Republican',\n",
    "           'McCotter, Thaddeus G': 'Republican',\n",
    "           'Obama, Barack': 'Democrat',\n",
    "           'Paul, Ron': 'Republican',\n",
    "           'Pawlenty, Timothy': 'Republican',\n",
    "           'Perry, Rick': 'Republican',\n",
    "           \"Roemer, Charles E. 'Buddy' III\": 'Republican',\n",
    "           'Romney, Mitt': 'Republican',\n",
    "           'Santorum, Rick': 'Republican'}\n"
   ]
  },
  {
   "cell_type": "code",
   "execution_count": 31,
   "id": "b362d45c-b751-449f-a37a-b4105585c16e",
   "metadata": {},
   "outputs": [],
   "source": [
    "df[\"Party\"] = df.cand_nm.map(party_map)"
   ]
  },
  {
   "cell_type": "code",
   "execution_count": 32,
   "id": "0d25ca5b-d1b6-4f70-a4a4-10d0fd67912a",
   "metadata": {},
   "outputs": [
    {
     "data": {
      "text/html": [
       "<div>\n",
       "<style scoped>\n",
       "    .dataframe tbody tr th:only-of-type {\n",
       "        vertical-align: middle;\n",
       "    }\n",
       "\n",
       "    .dataframe tbody tr th {\n",
       "        vertical-align: top;\n",
       "    }\n",
       "\n",
       "    .dataframe thead th {\n",
       "        text-align: right;\n",
       "    }\n",
       "</style>\n",
       "<table border=\"1\" class=\"dataframe\">\n",
       "  <thead>\n",
       "    <tr style=\"text-align: right;\">\n",
       "      <th></th>\n",
       "      <th>cand_nm</th>\n",
       "      <th>contbr_nm</th>\n",
       "      <th>contbr_city</th>\n",
       "      <th>contbr_st</th>\n",
       "      <th>contbr_employer</th>\n",
       "      <th>contbr_occupation</th>\n",
       "      <th>contb_receipt_amt</th>\n",
       "      <th>contb_receipt_dt</th>\n",
       "      <th>Party</th>\n",
       "    </tr>\n",
       "  </thead>\n",
       "  <tbody>\n",
       "    <tr>\n",
       "      <th>0</th>\n",
       "      <td>Bachmann, Michelle</td>\n",
       "      <td>HARVEY, WILLIAM</td>\n",
       "      <td>MOBILE</td>\n",
       "      <td>AL</td>\n",
       "      <td>RETIRED</td>\n",
       "      <td>RETIRED</td>\n",
       "      <td>250.0</td>\n",
       "      <td>20-JUN-11</td>\n",
       "      <td>Republican</td>\n",
       "    </tr>\n",
       "    <tr>\n",
       "      <th>1</th>\n",
       "      <td>Bachmann, Michelle</td>\n",
       "      <td>HARVEY, WILLIAM</td>\n",
       "      <td>MOBILE</td>\n",
       "      <td>AL</td>\n",
       "      <td>RETIRED</td>\n",
       "      <td>RETIRED</td>\n",
       "      <td>50.0</td>\n",
       "      <td>23-JUN-11</td>\n",
       "      <td>Republican</td>\n",
       "    </tr>\n",
       "    <tr>\n",
       "      <th>2</th>\n",
       "      <td>Bachmann, Michelle</td>\n",
       "      <td>SMITH, LANIER</td>\n",
       "      <td>LANETT</td>\n",
       "      <td>AL</td>\n",
       "      <td>INFORMATION REQUESTED</td>\n",
       "      <td>INFORMATION REQUESTED</td>\n",
       "      <td>250.0</td>\n",
       "      <td>05-JUL-11</td>\n",
       "      <td>Republican</td>\n",
       "    </tr>\n",
       "    <tr>\n",
       "      <th>3</th>\n",
       "      <td>Bachmann, Michelle</td>\n",
       "      <td>BLEVINS, DARONDA</td>\n",
       "      <td>PIGGOTT</td>\n",
       "      <td>AR</td>\n",
       "      <td>NONE</td>\n",
       "      <td>RETIRED</td>\n",
       "      <td>250.0</td>\n",
       "      <td>01-AUG-11</td>\n",
       "      <td>Republican</td>\n",
       "    </tr>\n",
       "    <tr>\n",
       "      <th>4</th>\n",
       "      <td>Bachmann, Michelle</td>\n",
       "      <td>WARDENBURG, HAROLD</td>\n",
       "      <td>HOT SPRINGS NATION</td>\n",
       "      <td>AR</td>\n",
       "      <td>NONE</td>\n",
       "      <td>RETIRED</td>\n",
       "      <td>300.0</td>\n",
       "      <td>20-JUN-11</td>\n",
       "      <td>Republican</td>\n",
       "    </tr>\n",
       "  </tbody>\n",
       "</table>\n",
       "</div>"
      ],
      "text/plain": [
       "              cand_nm           contbr_nm         contbr_city contbr_st  \\\n",
       "0  Bachmann, Michelle     HARVEY, WILLIAM              MOBILE        AL   \n",
       "1  Bachmann, Michelle     HARVEY, WILLIAM              MOBILE        AL   \n",
       "2  Bachmann, Michelle       SMITH, LANIER              LANETT        AL   \n",
       "3  Bachmann, Michelle    BLEVINS, DARONDA             PIGGOTT        AR   \n",
       "4  Bachmann, Michelle  WARDENBURG, HAROLD  HOT SPRINGS NATION        AR   \n",
       "\n",
       "         contbr_employer      contbr_occupation  contb_receipt_amt  \\\n",
       "0                RETIRED                RETIRED              250.0   \n",
       "1                RETIRED                RETIRED               50.0   \n",
       "2  INFORMATION REQUESTED  INFORMATION REQUESTED              250.0   \n",
       "3                   NONE                RETIRED              250.0   \n",
       "4                   NONE                RETIRED              300.0   \n",
       "\n",
       "  contb_receipt_dt       Party  \n",
       "0        20-JUN-11  Republican  \n",
       "1        23-JUN-11  Republican  \n",
       "2        05-JUL-11  Republican  \n",
       "3        01-AUG-11  Republican  \n",
       "4        20-JUN-11  Republican  "
      ]
     },
     "execution_count": 32,
     "metadata": {},
     "output_type": "execute_result"
    }
   ],
   "source": [
    "df.head()"
   ]
  },
  {
   "cell_type": "code",
   "execution_count": 33,
   "id": "dcb9b80d-a404-444b-b318-6fe5be446b01",
   "metadata": {},
   "outputs": [],
   "source": [
    "# to get rid of any contribution (contb_receipt_amt) that are negatives"
   ]
  },
  {
   "cell_type": "code",
   "execution_count": 34,
   "id": "ded19420-a025-4e40-9dee-a68f7b37111b",
   "metadata": {},
   "outputs": [],
   "source": [
    "df = df[df.contb_receipt_amt > 0]"
   ]
  },
  {
   "cell_type": "code",
   "execution_count": 35,
   "id": "7427690a-421e-4c7a-9c15-899952eb4d9a",
   "metadata": {},
   "outputs": [
    {
     "data": {
      "text/html": [
       "<div>\n",
       "<style scoped>\n",
       "    .dataframe tbody tr th:only-of-type {\n",
       "        vertical-align: middle;\n",
       "    }\n",
       "\n",
       "    .dataframe tbody tr th {\n",
       "        vertical-align: top;\n",
       "    }\n",
       "\n",
       "    .dataframe thead th {\n",
       "        text-align: right;\n",
       "    }\n",
       "</style>\n",
       "<table border=\"1\" class=\"dataframe\">\n",
       "  <thead>\n",
       "    <tr style=\"text-align: right;\">\n",
       "      <th></th>\n",
       "      <th>cand_nm</th>\n",
       "      <th>contbr_nm</th>\n",
       "      <th>contbr_city</th>\n",
       "      <th>contbr_st</th>\n",
       "      <th>contbr_employer</th>\n",
       "      <th>contbr_occupation</th>\n",
       "      <th>contb_receipt_amt</th>\n",
       "      <th>contb_receipt_dt</th>\n",
       "      <th>Party</th>\n",
       "    </tr>\n",
       "  </thead>\n",
       "  <tbody>\n",
       "    <tr>\n",
       "      <th>0</th>\n",
       "      <td>Bachmann, Michelle</td>\n",
       "      <td>HARVEY, WILLIAM</td>\n",
       "      <td>MOBILE</td>\n",
       "      <td>AL</td>\n",
       "      <td>RETIRED</td>\n",
       "      <td>RETIRED</td>\n",
       "      <td>250.0</td>\n",
       "      <td>20-JUN-11</td>\n",
       "      <td>Republican</td>\n",
       "    </tr>\n",
       "    <tr>\n",
       "      <th>1</th>\n",
       "      <td>Bachmann, Michelle</td>\n",
       "      <td>HARVEY, WILLIAM</td>\n",
       "      <td>MOBILE</td>\n",
       "      <td>AL</td>\n",
       "      <td>RETIRED</td>\n",
       "      <td>RETIRED</td>\n",
       "      <td>50.0</td>\n",
       "      <td>23-JUN-11</td>\n",
       "      <td>Republican</td>\n",
       "    </tr>\n",
       "    <tr>\n",
       "      <th>2</th>\n",
       "      <td>Bachmann, Michelle</td>\n",
       "      <td>SMITH, LANIER</td>\n",
       "      <td>LANETT</td>\n",
       "      <td>AL</td>\n",
       "      <td>INFORMATION REQUESTED</td>\n",
       "      <td>INFORMATION REQUESTED</td>\n",
       "      <td>250.0</td>\n",
       "      <td>05-JUL-11</td>\n",
       "      <td>Republican</td>\n",
       "    </tr>\n",
       "    <tr>\n",
       "      <th>3</th>\n",
       "      <td>Bachmann, Michelle</td>\n",
       "      <td>BLEVINS, DARONDA</td>\n",
       "      <td>PIGGOTT</td>\n",
       "      <td>AR</td>\n",
       "      <td>NONE</td>\n",
       "      <td>RETIRED</td>\n",
       "      <td>250.0</td>\n",
       "      <td>01-AUG-11</td>\n",
       "      <td>Republican</td>\n",
       "    </tr>\n",
       "    <tr>\n",
       "      <th>4</th>\n",
       "      <td>Bachmann, Michelle</td>\n",
       "      <td>WARDENBURG, HAROLD</td>\n",
       "      <td>HOT SPRINGS NATION</td>\n",
       "      <td>AR</td>\n",
       "      <td>NONE</td>\n",
       "      <td>RETIRED</td>\n",
       "      <td>300.0</td>\n",
       "      <td>20-JUN-11</td>\n",
       "      <td>Republican</td>\n",
       "    </tr>\n",
       "  </tbody>\n",
       "</table>\n",
       "</div>"
      ],
      "text/plain": [
       "              cand_nm           contbr_nm         contbr_city contbr_st  \\\n",
       "0  Bachmann, Michelle     HARVEY, WILLIAM              MOBILE        AL   \n",
       "1  Bachmann, Michelle     HARVEY, WILLIAM              MOBILE        AL   \n",
       "2  Bachmann, Michelle       SMITH, LANIER              LANETT        AL   \n",
       "3  Bachmann, Michelle    BLEVINS, DARONDA             PIGGOTT        AR   \n",
       "4  Bachmann, Michelle  WARDENBURG, HAROLD  HOT SPRINGS NATION        AR   \n",
       "\n",
       "         contbr_employer      contbr_occupation  contb_receipt_amt  \\\n",
       "0                RETIRED                RETIRED              250.0   \n",
       "1                RETIRED                RETIRED               50.0   \n",
       "2  INFORMATION REQUESTED  INFORMATION REQUESTED              250.0   \n",
       "3                   NONE                RETIRED              250.0   \n",
       "4                   NONE                RETIRED              300.0   \n",
       "\n",
       "  contb_receipt_dt       Party  \n",
       "0        20-JUN-11  Republican  \n",
       "1        23-JUN-11  Republican  \n",
       "2        05-JUL-11  Republican  \n",
       "3        01-AUG-11  Republican  \n",
       "4        20-JUN-11  Republican  "
      ]
     },
     "execution_count": 35,
     "metadata": {},
     "output_type": "execute_result"
    }
   ],
   "source": [
    "df.head()"
   ]
  },
  {
   "cell_type": "code",
   "execution_count": 36,
   "id": "53ee7bfe-bf4b-4311-9ab5-0f6901c2b898",
   "metadata": {},
   "outputs": [],
   "source": [
    "# Aggregate the dataset by candidates\n",
    "\n",
    "# 1: we look at total money received by each candidate\n",
    "\n",
    "# 2: look at total number of donations & total amount of donations"
   ]
  },
  {
   "cell_type": "code",
   "execution_count": 37,
   "id": "8a6b8d4e-2c83-446d-9ab4-38b45cb099ff",
   "metadata": {},
   "outputs": [
    {
     "data": {
      "text/plain": [
       "cand_nm\n",
       "McCotter, Thaddeus G                  73\n",
       "Johnson, Gary Earl                  1234\n",
       "Pawlenty, Timothy                   3844\n",
       "Huntsman, Jon                       4066\n",
       "Roemer, Charles E. 'Buddy' III      5844\n",
       "Perry, Rick                        12709\n",
       "Bachmann, Michelle                 13082\n",
       "Cain, Herman                       20052\n",
       "Santorum, Rick                     46245\n",
       "Gingrich, Newt                     46883\n",
       "Romney, Mitt                      105155\n",
       "Paul, Ron                         143161\n",
       "Obama, Barack                     589127\n",
       "Name: contb_receipt_amt, dtype: int64"
      ]
     },
     "execution_count": 37,
     "metadata": {},
     "output_type": "execute_result"
    }
   ],
   "source": [
    "df.groupby(by = \"cand_nm\")[\"contb_receipt_amt\"].count().sort_values()"
   ]
  },
  {
   "cell_type": "code",
   "execution_count": 38,
   "id": "89657f4b-cee0-40f0-a8ed-5975bbcd1095",
   "metadata": {},
   "outputs": [],
   "source": [
    "# The data here represents how many contribution those candidates received/ how many donors\n",
    "\n",
    "# we notice that Obama was a front runner because he was the only Democratic candidate \n",
    "\n",
    "# Understandably, he did not have to compete with any other democratic nominees for the donors "
   ]
  },
  {
   "cell_type": "code",
   "execution_count": 39,
   "id": "02549345-c0c2-48f4-a812-bb490c3c9871",
   "metadata": {},
   "outputs": [
    {
     "data": {
      "text/plain": [
       "cand_nm\n",
       "Bachmann, Michelle                2.711439e+06\n",
       "Cain, Herman                      7.101082e+06\n",
       "Gingrich, Newt                    1.283277e+07\n",
       "Huntsman, Jon                     3.330373e+06\n",
       "Johnson, Gary Earl                5.669616e+05\n",
       "McCotter, Thaddeus G              3.903000e+04\n",
       "Obama, Barack                     1.358774e+08\n",
       "Paul, Ron                         2.100962e+07\n",
       "Pawlenty, Timothy                 6.004819e+06\n",
       "Perry, Rick                       2.030575e+07\n",
       "Roemer, Charles E. 'Buddy' III    3.730099e+05\n",
       "Romney, Mitt                      8.833591e+07\n",
       "Santorum, Rick                    1.104316e+07\n",
       "Name: contb_receipt_amt, dtype: float64"
      ]
     },
     "execution_count": 39,
     "metadata": {},
     "output_type": "execute_result"
    }
   ],
   "source": [
    "# Group by candidates and display the total amount donated\n",
    "\n",
    "df.groupby(by = \"cand_nm\")[\"contb_receipt_amt\"].sum()"
   ]
  },
  {
   "cell_type": "code",
   "execution_count": 40,
   "id": "a2f5957c-d56b-4ae8-b58a-0d86655b845c",
   "metadata": {},
   "outputs": [],
   "source": [
    "cand_money = df.groupby(by = \"cand_nm\")[\"contb_receipt_amt\"].sum()"
   ]
  },
  {
   "cell_type": "code",
   "execution_count": 41,
   "id": "5fc35aed-29af-4e9c-83f4-9be9686dbea0",
   "metadata": {},
   "outputs": [
    {
     "data": {
      "text/plain": [
       "'Bachmann, Michelle'"
      ]
     },
     "execution_count": 41,
     "metadata": {},
     "output_type": "execute_result"
    }
   ],
   "source": [
    "cand_money.index[0]"
   ]
  },
  {
   "cell_type": "code",
   "execution_count": 42,
   "id": "ed9425a8-2e48-4fed-96b6-162bff4a8b7c",
   "metadata": {},
   "outputs": [
    {
     "name": "stdout",
     "output_type": "stream",
     "text": [
      "The candidate: Bachmann, Michelle raised 2711439.29 of dollars\n",
      "\n",
      "\n",
      "The candidate: Cain, Herman raised 7101081.89 of dollars\n",
      "\n",
      "\n",
      "The candidate: Gingrich, Newt raised 12832769.69 of dollars\n",
      "\n",
      "\n",
      "The candidate: Huntsman, Jon raised 3330373.48 of dollars\n",
      "\n",
      "\n",
      "The candidate: Johnson, Gary Earl raised 566961.60 of dollars\n",
      "\n",
      "\n",
      "The candidate: McCotter, Thaddeus G raised 39030.00 of dollars\n",
      "\n",
      "\n",
      "The candidate: Obama, Barack raised 135877427.24 of dollars\n",
      "\n",
      "\n",
      "The candidate: Paul, Ron raised 21009619.83 of dollars\n",
      "\n",
      "\n",
      "The candidate: Pawlenty, Timothy raised 6004819.48 of dollars\n",
      "\n",
      "\n",
      "The candidate: Perry, Rick raised 20305754.00 of dollars\n",
      "\n",
      "\n",
      "The candidate: Roemer, Charles E. 'Buddy' III raised 373009.90 of dollars\n",
      "\n",
      "\n",
      "The candidate: Romney, Mitt raised 88335907.53 of dollars\n",
      "\n",
      "\n",
      "The candidate: Santorum, Rick raised 11043159.31 of dollars\n",
      "\n",
      "\n"
     ]
    }
   ],
   "source": [
    "# Simplify the data to be more readable with for loop\n",
    "\n",
    "# set up index\n",
    "i = 0\n",
    "\n",
    "for donation in cand_money:\n",
    "    print(f\"The candidate: {cand_money.index[i]} raised {donation:.2f} of dollars\")\n",
    "    print(\"\\n\")\n",
    "    i += 1"
   ]
  },
  {
   "cell_type": "code",
   "execution_count": 43,
   "id": "e8a3ae80-ad80-47a3-8c55-5cf6e7895b2d",
   "metadata": {},
   "outputs": [
    {
     "data": {
      "text/plain": [
       "pandas.core.series.Series"
      ]
     },
     "execution_count": 43,
     "metadata": {},
     "output_type": "execute_result"
    }
   ],
   "source": [
    "type(cand_money)"
   ]
  },
  {
   "cell_type": "code",
   "execution_count": 44,
   "id": "cb68205f-21a9-46d9-9f59-a76d6ae817af",
   "metadata": {},
   "outputs": [],
   "source": [
    "# Demonstrate it with a bar graph\n",
    "\n",
    "ax = cand_money.plot(kind = \"bar\", title = \"Candidates' Donors\")\n"
   ]
  },
  {
   "cell_type": "code",
   "execution_count": 45,
   "id": "ff38efcc-de7b-4c1f-bc1e-c9072b1f2524",
   "metadata": {},
   "outputs": [
    {
     "data": {
      "image/png": "[encoded data removed]",
      "text/plain": [
       "<Figure size 640x480 with 1 Axes>"
      ]
     },
     "metadata": {},
     "output_type": "display_data"
    }
   ],
   "source": [
    "plt.show()"
   ]
  },
  {
   "cell_type": "code",
   "execution_count": 46,
   "id": "6e926b00-15e9-4368-9c7e-ff3ef9cfe53c",
   "metadata": {},
   "outputs": [],
   "source": [
    "# Sum by Parties"
   ]
  },
  {
   "cell_type": "code",
   "execution_count": 47,
   "id": "8a277ca1-e06b-4c4a-b031-b9fcf5128c1a",
   "metadata": {},
   "outputs": [],
   "source": [
    "ax2 = df.groupby(\"Party\")[\"contb_receipt_amt\"]"
   ]
  },
  {
   "cell_type": "code",
   "execution_count": 48,
   "id": "dbd85dba-ca12-40c4-8343-e5368f433ef6",
   "metadata": {},
   "outputs": [
    {
     "data": {
      "text/plain": [
       "Party\n",
       "Democrat      589127\n",
       "Republican    402348\n",
       "Name: contb_receipt_amt, dtype: int64"
      ]
     },
     "execution_count": 48,
     "metadata": {},
     "output_type": "execute_result"
    }
   ],
   "source": [
    "ax2.count()"
   ]
  },
  {
   "cell_type": "code",
   "execution_count": 49,
   "id": "913cea33-8a01-4725-9e5c-d82375578728",
   "metadata": {},
   "outputs": [
    {
     "data": {
      "text/plain": [
       "Party\n",
       "Democrat      1.358774e+08\n",
       "Republican    1.736539e+08\n",
       "Name: contb_receipt_amt, dtype: float64"
      ]
     },
     "execution_count": 49,
     "metadata": {},
     "output_type": "execute_result"
    }
   ],
   "source": [
    "ax2.sum()"
   ]
  },
  {
   "cell_type": "code",
   "execution_count": 50,
   "id": "0e30ea87-707c-46ac-8483-0e71fadb8e6e",
   "metadata": {},
   "outputs": [
    {
     "data": {
      "text/plain": [
       "<Axes: title={'center': 'Amount of donors by Parties'}, xlabel='Party'>"
      ]
     },
     "execution_count": 50,
     "metadata": {},
     "output_type": "execute_result"
    }
   ],
   "source": [
    "ax2.sum().plot(kind = \"bar\", title = \"Amount of donors by Parties\")"
   ]
  },
  {
   "cell_type": "code",
   "execution_count": 51,
   "id": "0946212e-2cc0-4be7-bd8b-d4cde52a198c",
   "metadata": {},
   "outputs": [
    {
     "data": {
      "image/png": "[encoded data removed]",
      "text/plain": [
       "<Figure size 640x480 with 1 Axes>"
      ]
     },
     "metadata": {},
     "output_type": "display_data"
    }
   ],
   "source": [
    "plt.show()"
   ]
  },
  {
   "cell_type": "code",
   "execution_count": 52,
   "id": "15551bb3-1284-4443-b98b-54bcf923d9e1",
   "metadata": {},
   "outputs": [],
   "source": [
    "# It looks like Obama could not compete against all the Republicans, but he certainly had the advantage\n",
    "\n",
    "# It is because the Rep fundings were splitted across multiple candidates\n",
    "\n",
    "# However, we gotta acknowledge the existence of Romney as potential rival to Obama in the president race."
   ]
  },
  {
   "cell_type": "markdown",
   "id": "4e027b01-7813-4b1e-8e2b-d2228228a2e4",
   "metadata": {},
   "source": [
    "# What were the demographics of the donors?"
   ]
  },
  {
   "cell_type": "code",
   "execution_count": 53,
   "id": "6bc7de43-b2e6-4883-a0dc-87dafe09de7d",
   "metadata": {},
   "outputs": [],
   "source": [
    "# we make a dataframe with the ocupation \n",
    "\n",
    "# By using pivot table to extract and organise the data "
   ]
  },
  {
   "cell_type": "code",
   "execution_count": 74,
   "id": "cbb5a761-6114-490d-b564-3213997d6716",
   "metadata": {},
   "outputs": [
    {
     "data": {
      "text/plain": [
       "(991475, 9)"
      ]
     },
     "execution_count": 74,
     "metadata": {},
     "output_type": "execute_result"
    }
   ],
   "source": [
    "df.shape"
   ]
  },
  {
   "cell_type": "code",
   "execution_count": 54,
   "id": "c6dc297e-78ac-4b9e-958f-86f5ebbc5643",
   "metadata": {},
   "outputs": [
    {
     "data": {
      "text/html": [
       "<div>\n",
       "<style scoped>\n",
       "    .dataframe tbody tr th:only-of-type {\n",
       "        vertical-align: middle;\n",
       "    }\n",
       "\n",
       "    .dataframe tbody tr th {\n",
       "        vertical-align: top;\n",
       "    }\n",
       "\n",
       "    .dataframe thead th {\n",
       "        text-align: right;\n",
       "    }\n",
       "</style>\n",
       "<table border=\"1\" class=\"dataframe\">\n",
       "  <thead>\n",
       "    <tr style=\"text-align: right;\">\n",
       "      <th></th>\n",
       "      <th>cand_nm</th>\n",
       "      <th>contbr_nm</th>\n",
       "      <th>contbr_city</th>\n",
       "      <th>contbr_st</th>\n",
       "      <th>contbr_employer</th>\n",
       "      <th>contbr_occupation</th>\n",
       "      <th>contb_receipt_amt</th>\n",
       "      <th>contb_receipt_dt</th>\n",
       "      <th>Party</th>\n",
       "    </tr>\n",
       "  </thead>\n",
       "  <tbody>\n",
       "    <tr>\n",
       "      <th>0</th>\n",
       "      <td>Bachmann, Michelle</td>\n",
       "      <td>HARVEY, WILLIAM</td>\n",
       "      <td>MOBILE</td>\n",
       "      <td>AL</td>\n",
       "      <td>RETIRED</td>\n",
       "      <td>RETIRED</td>\n",
       "      <td>250.0</td>\n",
       "      <td>20-JUN-11</td>\n",
       "      <td>Republican</td>\n",
       "    </tr>\n",
       "    <tr>\n",
       "      <th>1</th>\n",
       "      <td>Bachmann, Michelle</td>\n",
       "      <td>HARVEY, WILLIAM</td>\n",
       "      <td>MOBILE</td>\n",
       "      <td>AL</td>\n",
       "      <td>RETIRED</td>\n",
       "      <td>RETIRED</td>\n",
       "      <td>50.0</td>\n",
       "      <td>23-JUN-11</td>\n",
       "      <td>Republican</td>\n",
       "    </tr>\n",
       "    <tr>\n",
       "      <th>2</th>\n",
       "      <td>Bachmann, Michelle</td>\n",
       "      <td>SMITH, LANIER</td>\n",
       "      <td>LANETT</td>\n",
       "      <td>AL</td>\n",
       "      <td>INFORMATION REQUESTED</td>\n",
       "      <td>INFORMATION REQUESTED</td>\n",
       "      <td>250.0</td>\n",
       "      <td>05-JUL-11</td>\n",
       "      <td>Republican</td>\n",
       "    </tr>\n",
       "    <tr>\n",
       "      <th>3</th>\n",
       "      <td>Bachmann, Michelle</td>\n",
       "      <td>BLEVINS, DARONDA</td>\n",
       "      <td>PIGGOTT</td>\n",
       "      <td>AR</td>\n",
       "      <td>NONE</td>\n",
       "      <td>RETIRED</td>\n",
       "      <td>250.0</td>\n",
       "      <td>01-AUG-11</td>\n",
       "      <td>Republican</td>\n",
       "    </tr>\n",
       "    <tr>\n",
       "      <th>4</th>\n",
       "      <td>Bachmann, Michelle</td>\n",
       "      <td>WARDENBURG, HAROLD</td>\n",
       "      <td>HOT SPRINGS NATION</td>\n",
       "      <td>AR</td>\n",
       "      <td>NONE</td>\n",
       "      <td>RETIRED</td>\n",
       "      <td>300.0</td>\n",
       "      <td>20-JUN-11</td>\n",
       "      <td>Republican</td>\n",
       "    </tr>\n",
       "  </tbody>\n",
       "</table>\n",
       "</div>"
      ],
      "text/plain": [
       "              cand_nm           contbr_nm         contbr_city contbr_st  \\\n",
       "0  Bachmann, Michelle     HARVEY, WILLIAM              MOBILE        AL   \n",
       "1  Bachmann, Michelle     HARVEY, WILLIAM              MOBILE        AL   \n",
       "2  Bachmann, Michelle       SMITH, LANIER              LANETT        AL   \n",
       "3  Bachmann, Michelle    BLEVINS, DARONDA             PIGGOTT        AR   \n",
       "4  Bachmann, Michelle  WARDENBURG, HAROLD  HOT SPRINGS NATION        AR   \n",
       "\n",
       "         contbr_employer      contbr_occupation  contb_receipt_amt  \\\n",
       "0                RETIRED                RETIRED              250.0   \n",
       "1                RETIRED                RETIRED               50.0   \n",
       "2  INFORMATION REQUESTED  INFORMATION REQUESTED              250.0   \n",
       "3                   NONE                RETIRED              250.0   \n",
       "4                   NONE                RETIRED              300.0   \n",
       "\n",
       "  contb_receipt_dt       Party  \n",
       "0        20-JUN-11  Republican  \n",
       "1        23-JUN-11  Republican  \n",
       "2        05-JUL-11  Republican  \n",
       "3        01-AUG-11  Republican  \n",
       "4        20-JUN-11  Republican  "
      ]
     },
     "execution_count": 54,
     "metadata": {},
     "output_type": "execute_result"
    }
   ],
   "source": [
    "df.head()"
   ]
  },
  {
   "cell_type": "code",
   "execution_count": 55,
   "id": "51fc4d06-bdf5-4c82-8ffd-e3e24d0ee5c9",
   "metadata": {},
   "outputs": [],
   "source": [
    "ocupation_df = df.pivot_table(values = \"contb_receipt_amt\",\n",
    "                              index = \"contbr_occupation\",\n",
    "                              columns = \"Party\",\n",
    "                              aggfunc = \"sum\")"
   ]
  },
  {
   "cell_type": "code",
   "execution_count": 56,
   "id": "56621939-01ec-4359-acde-2348ae2b9b7b",
   "metadata": {},
   "outputs": [
    {
     "data": {
      "text/plain": [
       "(45067, 2)"
      ]
     },
     "execution_count": 56,
     "metadata": {},
     "output_type": "execute_result"
    }
   ],
   "source": [
    "ocupation_df.shape"
   ]
  },
  {
   "cell_type": "code",
   "execution_count": 57,
   "id": "c70fc5cd-ebbd-4b67-b9ed-568b86c49557",
   "metadata": {},
   "outputs": [
    {
     "data": {
      "text/html": [
       "<div>\n",
       "<style scoped>\n",
       "    .dataframe tbody tr th:only-of-type {\n",
       "        vertical-align: middle;\n",
       "    }\n",
       "\n",
       "    .dataframe tbody tr th {\n",
       "        vertical-align: top;\n",
       "    }\n",
       "\n",
       "    .dataframe thead th {\n",
       "        text-align: right;\n",
       "    }\n",
       "</style>\n",
       "<table border=\"1\" class=\"dataframe\">\n",
       "  <thead>\n",
       "    <tr style=\"text-align: right;\">\n",
       "      <th>Party</th>\n",
       "      <th>Democrat</th>\n",
       "      <th>Republican</th>\n",
       "    </tr>\n",
       "    <tr>\n",
       "      <th>contbr_occupation</th>\n",
       "      <th></th>\n",
       "      <th></th>\n",
       "    </tr>\n",
       "  </thead>\n",
       "  <tbody>\n",
       "    <tr>\n",
       "      <th>MIXED-MEDIA ARTIST / STORYTELLER</th>\n",
       "      <td>100.0</td>\n",
       "      <td>NaN</td>\n",
       "    </tr>\n",
       "    <tr>\n",
       "      <th>AREA VICE PRESIDENT</th>\n",
       "      <td>250.0</td>\n",
       "      <td>NaN</td>\n",
       "    </tr>\n",
       "    <tr>\n",
       "      <th>RESEARCH ASSOCIATE</th>\n",
       "      <td>100.0</td>\n",
       "      <td>NaN</td>\n",
       "    </tr>\n",
       "    <tr>\n",
       "      <th>TEACHER</th>\n",
       "      <td>500.0</td>\n",
       "      <td>NaN</td>\n",
       "    </tr>\n",
       "    <tr>\n",
       "      <th>THERAPIST</th>\n",
       "      <td>3900.0</td>\n",
       "      <td>NaN</td>\n",
       "    </tr>\n",
       "    <tr>\n",
       "      <th>...</th>\n",
       "      <td>...</td>\n",
       "      <td>...</td>\n",
       "    </tr>\n",
       "    <tr>\n",
       "      <th>ZOOKEEPER</th>\n",
       "      <td>35.0</td>\n",
       "      <td>NaN</td>\n",
       "    </tr>\n",
       "    <tr>\n",
       "      <th>ZOOLOGIST</th>\n",
       "      <td>400.0</td>\n",
       "      <td>NaN</td>\n",
       "    </tr>\n",
       "    <tr>\n",
       "      <th>ZOOLOGY EDUCATION</th>\n",
       "      <td>25.0</td>\n",
       "      <td>NaN</td>\n",
       "    </tr>\n",
       "    <tr>\n",
       "      <th>\\NONE\\</th>\n",
       "      <td>NaN</td>\n",
       "      <td>250.0</td>\n",
       "    </tr>\n",
       "    <tr>\n",
       "      <th>~</th>\n",
       "      <td>NaN</td>\n",
       "      <td>75.0</td>\n",
       "    </tr>\n",
       "  </tbody>\n",
       "</table>\n",
       "<p>45067 rows × 2 columns</p>\n",
       "</div>"
      ],
      "text/plain": [
       "Party                                Democrat  Republican\n",
       "contbr_occupation                                        \n",
       "   MIXED-MEDIA ARTIST / STORYTELLER     100.0         NaN\n",
       " AREA VICE PRESIDENT                    250.0         NaN\n",
       " RESEARCH ASSOCIATE                     100.0         NaN\n",
       " TEACHER                                500.0         NaN\n",
       " THERAPIST                             3900.0         NaN\n",
       "...                                       ...         ...\n",
       "ZOOKEEPER                                35.0         NaN\n",
       "ZOOLOGIST                               400.0         NaN\n",
       "ZOOLOGY EDUCATION                        25.0         NaN\n",
       "\\NONE\\                                    NaN       250.0\n",
       "~                                         NaN        75.0\n",
       "\n",
       "[45067 rows x 2 columns]"
      ]
     },
     "execution_count": 57,
     "metadata": {},
     "output_type": "execute_result"
    }
   ],
   "source": [
    "ocupation_df"
   ]
  },
  {
   "cell_type": "code",
   "execution_count": 58,
   "id": "beac6632-49c0-4493-bd8a-4691a111f126",
   "metadata": {},
   "outputs": [
    {
     "data": {
      "text/plain": [
       "Party\n",
       "Democrat      29166\n",
       "Republican    21081\n",
       "dtype: int64"
      ]
     },
     "execution_count": 58,
     "metadata": {},
     "output_type": "execute_result"
    }
   ],
   "source": [
    "ocupation_df.count()"
   ]
  },
  {
   "cell_type": "code",
   "execution_count": 59,
   "id": "e6cecf1d-2014-4ebb-b065-e15e7d6e5734",
   "metadata": {},
   "outputs": [],
   "source": [
    "# We would love to know which occupations contributed the highest amount and maybe top 10 \n",
    "\n",
    "# We see that some ocupation like \"Zookeeper\", \"Zoology Education\" contributed $35 isnt going to have a big effect in the large scope"
   ]
  },
  {
   "cell_type": "code",
   "execution_count": 60,
   "id": "467ed33b-fb69-4041-8806-835f4e891374",
   "metadata": {},
   "outputs": [],
   "source": [
    "# we going to set our cut off at 1 mill total or more"
   ]
  },
  {
   "cell_type": "code",
   "execution_count": 61,
   "id": "97c37af1-cd19-4c92-9860-9661eafbb8a2",
   "metadata": {},
   "outputs": [],
   "source": [
    "ocupation_df = ocupation_df[ocupation_df.sum(1) > 1000000]"
   ]
  },
  {
   "cell_type": "code",
   "execution_count": 62,
   "id": "f0e421cb-a7c1-45af-aa9b-faf2c8b9eddf",
   "metadata": {},
   "outputs": [
    {
     "data": {
      "text/html": [
       "<div>\n",
       "<style scoped>\n",
       "    .dataframe tbody tr th:only-of-type {\n",
       "        vertical-align: middle;\n",
       "    }\n",
       "\n",
       "    .dataframe tbody tr th {\n",
       "        vertical-align: top;\n",
       "    }\n",
       "\n",
       "    .dataframe thead th {\n",
       "        text-align: right;\n",
       "    }\n",
       "</style>\n",
       "<table border=\"1\" class=\"dataframe\">\n",
       "  <thead>\n",
       "    <tr style=\"text-align: right;\">\n",
       "      <th>Party</th>\n",
       "      <th>Democrat</th>\n",
       "      <th>Republican</th>\n",
       "    </tr>\n",
       "    <tr>\n",
       "      <th>contbr_occupation</th>\n",
       "      <th></th>\n",
       "      <th></th>\n",
       "    </tr>\n",
       "  </thead>\n",
       "  <tbody>\n",
       "    <tr>\n",
       "      <th>ATTORNEY</th>\n",
       "      <td>11141982.97</td>\n",
       "      <td>7477194.43</td>\n",
       "    </tr>\n",
       "    <tr>\n",
       "      <th>BANKER</th>\n",
       "      <td>224084.40</td>\n",
       "      <td>1259468.73</td>\n",
       "    </tr>\n",
       "    <tr>\n",
       "      <th>BUSINESS OWNER</th>\n",
       "      <td>449979.30</td>\n",
       "      <td>1323342.43</td>\n",
       "    </tr>\n",
       "    <tr>\n",
       "      <th>C.E.O.</th>\n",
       "      <td>1690.00</td>\n",
       "      <td>2592983.11</td>\n",
       "    </tr>\n",
       "    <tr>\n",
       "      <th>CEO</th>\n",
       "      <td>2073284.79</td>\n",
       "      <td>1618057.41</td>\n",
       "    </tr>\n",
       "    <tr>\n",
       "      <th>CHAIRMAN</th>\n",
       "      <td>496547.00</td>\n",
       "      <td>1296092.75</td>\n",
       "    </tr>\n",
       "    <tr>\n",
       "      <th>CONSULTANT</th>\n",
       "      <td>2459912.71</td>\n",
       "      <td>2544725.45</td>\n",
       "    </tr>\n",
       "    <tr>\n",
       "      <th>ENGINEER</th>\n",
       "      <td>951525.55</td>\n",
       "      <td>1818373.70</td>\n",
       "    </tr>\n",
       "    <tr>\n",
       "      <th>EXECUTIVE</th>\n",
       "      <td>1355161.05</td>\n",
       "      <td>4138850.09</td>\n",
       "    </tr>\n",
       "    <tr>\n",
       "      <th>FINANCE</th>\n",
       "      <td>296031.40</td>\n",
       "      <td>1402514.91</td>\n",
       "    </tr>\n",
       "    <tr>\n",
       "      <th>HOMEMAKER</th>\n",
       "      <td>4248875.80</td>\n",
       "      <td>13634275.78</td>\n",
       "    </tr>\n",
       "    <tr>\n",
       "      <th>INFORMATION REQUESTED</th>\n",
       "      <td>4866973.96</td>\n",
       "      <td>3896615.74</td>\n",
       "    </tr>\n",
       "    <tr>\n",
       "      <th>INFORMATION REQUESTED PER BEST EFFORTS</th>\n",
       "      <td>NaN</td>\n",
       "      <td>16340533.64</td>\n",
       "    </tr>\n",
       "    <tr>\n",
       "      <th>INVESTMENTS</th>\n",
       "      <td>160480.00</td>\n",
       "      <td>1018667.64</td>\n",
       "    </tr>\n",
       "    <tr>\n",
       "      <th>INVESTOR</th>\n",
       "      <td>884133.00</td>\n",
       "      <td>2431768.92</td>\n",
       "    </tr>\n",
       "    <tr>\n",
       "      <th>LAWYER</th>\n",
       "      <td>3160478.87</td>\n",
       "      <td>391224.32</td>\n",
       "    </tr>\n",
       "    <tr>\n",
       "      <th>MANAGER</th>\n",
       "      <td>762883.22</td>\n",
       "      <td>1444532.37</td>\n",
       "    </tr>\n",
       "    <tr>\n",
       "      <th>NOT EMPLOYED</th>\n",
       "      <td>1709188.20</td>\n",
       "      <td>44819.73</td>\n",
       "    </tr>\n",
       "    <tr>\n",
       "      <th>OWNER</th>\n",
       "      <td>1001567.36</td>\n",
       "      <td>2408286.92</td>\n",
       "    </tr>\n",
       "    <tr>\n",
       "      <th>PARTNER</th>\n",
       "      <td>395759.50</td>\n",
       "      <td>842177.05</td>\n",
       "    </tr>\n",
       "    <tr>\n",
       "      <th>PHYSICIAN</th>\n",
       "      <td>3735124.94</td>\n",
       "      <td>3594320.24</td>\n",
       "    </tr>\n",
       "    <tr>\n",
       "      <th>PRESIDENT</th>\n",
       "      <td>1878509.95</td>\n",
       "      <td>4720923.76</td>\n",
       "    </tr>\n",
       "    <tr>\n",
       "      <th>PROFESSOR</th>\n",
       "      <td>2165071.08</td>\n",
       "      <td>296702.73</td>\n",
       "    </tr>\n",
       "    <tr>\n",
       "      <th>REAL ESTATE</th>\n",
       "      <td>528902.09</td>\n",
       "      <td>1625902.25</td>\n",
       "    </tr>\n",
       "    <tr>\n",
       "      <th>RETIRED</th>\n",
       "      <td>25305116.38</td>\n",
       "      <td>23561244.49</td>\n",
       "    </tr>\n",
       "    <tr>\n",
       "      <th>SALES</th>\n",
       "      <td>392886.91</td>\n",
       "      <td>1455464.91</td>\n",
       "    </tr>\n",
       "    <tr>\n",
       "      <th>SELF-EMPLOYED</th>\n",
       "      <td>672393.40</td>\n",
       "      <td>1640252.54</td>\n",
       "    </tr>\n",
       "    <tr>\n",
       "      <th>STUDENT</th>\n",
       "      <td>628099.75</td>\n",
       "      <td>1073283.65</td>\n",
       "    </tr>\n",
       "    <tr>\n",
       "      <th>TEACHER</th>\n",
       "      <td>1250969.15</td>\n",
       "      <td>463984.90</td>\n",
       "    </tr>\n",
       "    <tr>\n",
       "      <th>VICE PRESIDENT</th>\n",
       "      <td>325647.15</td>\n",
       "      <td>880162.26</td>\n",
       "    </tr>\n",
       "    <tr>\n",
       "      <th>WRITER</th>\n",
       "      <td>1084188.88</td>\n",
       "      <td>227928.41</td>\n",
       "    </tr>\n",
       "  </tbody>\n",
       "</table>\n",
       "</div>"
      ],
      "text/plain": [
       "Party                                      Democrat   Republican\n",
       "contbr_occupation                                               \n",
       "ATTORNEY                                11141982.97   7477194.43\n",
       "BANKER                                    224084.40   1259468.73\n",
       "BUSINESS OWNER                            449979.30   1323342.43\n",
       "C.E.O.                                      1690.00   2592983.11\n",
       "CEO                                      2073284.79   1618057.41\n",
       "CHAIRMAN                                  496547.00   1296092.75\n",
       "CONSULTANT                               2459912.71   2544725.45\n",
       "ENGINEER                                  951525.55   1818373.70\n",
       "EXECUTIVE                                1355161.05   4138850.09\n",
       "FINANCE                                   296031.40   1402514.91\n",
       "HOMEMAKER                                4248875.80  13634275.78\n",
       "INFORMATION REQUESTED                    4866973.96   3896615.74\n",
       "INFORMATION REQUESTED PER BEST EFFORTS          NaN  16340533.64\n",
       "INVESTMENTS                               160480.00   1018667.64\n",
       "INVESTOR                                  884133.00   2431768.92\n",
       "LAWYER                                   3160478.87    391224.32\n",
       "MANAGER                                   762883.22   1444532.37\n",
       "NOT EMPLOYED                             1709188.20     44819.73\n",
       "OWNER                                    1001567.36   2408286.92\n",
       "PARTNER                                   395759.50    842177.05\n",
       "PHYSICIAN                                3735124.94   3594320.24\n",
       "PRESIDENT                                1878509.95   4720923.76\n",
       "PROFESSOR                                2165071.08    296702.73\n",
       "REAL ESTATE                               528902.09   1625902.25\n",
       "RETIRED                                 25305116.38  23561244.49\n",
       "SALES                                     392886.91   1455464.91\n",
       "SELF-EMPLOYED                             672393.40   1640252.54\n",
       "STUDENT                                   628099.75   1073283.65\n",
       "TEACHER                                  1250969.15    463984.90\n",
       "VICE PRESIDENT                            325647.15    880162.26\n",
       "WRITER                                   1084188.88    227928.41"
      ]
     },
     "execution_count": 62,
     "metadata": {},
     "output_type": "execute_result"
    }
   ],
   "source": [
    "ocupation_df"
   ]
  },
  {
   "cell_type": "code",
   "execution_count": 63,
   "id": "952134f6-4038-434d-a463-fba09e806e69",
   "metadata": {},
   "outputs": [
    {
     "data": {
      "text/plain": [
       "<Axes: ylabel='contbr_occupation'>"
      ]
     },
     "execution_count": 63,
     "metadata": {},
     "output_type": "execute_result"
    }
   ],
   "source": [
    "ocupation_df.plot(kind = \"barh\", figsize = (10,15), cmap = \"seismic\")"
   ]
  },
  {
   "cell_type": "code",
   "execution_count": 64,
   "id": "6b7d9867-a7b9-49d5-9808-e5780093388a",
   "metadata": {},
   "outputs": [
    {
     "data": {
      "image/png": "[encoded data removed]",
      "text/plain": [
       "<Figure size 1000x1500 with 1 Axes>"
      ]
     },
     "metadata": {},
     "output_type": "display_data"
    }
   ],
   "source": [
    "plt.show()"
   ]
  },
  {
   "cell_type": "code",
   "execution_count": 65,
   "id": "ea4040d2-3389-4b89-b8ef-7c203acbdd4c",
   "metadata": {},
   "outputs": [],
   "source": [
    "# we notice that Information requested and INFORMATION REQUESTED PER BEST EFFORTS were not real occupations \n",
    "\n",
    "# we are gonna get rid of those 2\n",
    "\n",
    "# The CEO and C.E.O are related so we gonna add those data together"
   ]
  },
  {
   "cell_type": "code",
   "execution_count": 66,
   "id": "d9b7413a-161b-4b65-ab28-c8aee64e9ac6",
   "metadata": {},
   "outputs": [],
   "source": [
    "ocupation_df = ocupation_df.drop([\"INFORMATION REQUESTED\", \"INFORMATION REQUESTED PER BEST EFFORTS\"])\n",
    "\n",
    "ocupation_df.loc[\"CEO\"] = ocupation_df.loc[\"CEO\"] + ocupation_df.loc[\"C.E.O.\"]\n",
    "\n",
    "ocupation_df.drop(\"C.E.O.\", inplace = True)"
   ]
  },
  {
   "cell_type": "code",
   "execution_count": 67,
   "id": "dcc90cb8-9e75-4d9d-bb98-180c9d9fca5a",
   "metadata": {},
   "outputs": [
    {
     "data": {
      "text/plain": [
       "<Axes: ylabel='contbr_occupation'>"
      ]
     },
     "execution_count": 67,
     "metadata": {},
     "output_type": "execute_result"
    }
   ],
   "source": [
    "ocupation_df.plot(kind = \"barh\", figsize = (10,15), cmap = \"seismic\")"
   ]
  },
  {
   "cell_type": "code",
   "execution_count": 68,
   "id": "2cae9d27-a29c-40b9-9393-26073cee1395",
   "metadata": {},
   "outputs": [
    {
     "data": {
      "image/png": "[encoded data removed]",
      "text/plain": [
       "<Figure size 1000x1500 with 1 Axes>"
      ]
     },
     "metadata": {},
     "output_type": "display_data"
    }
   ],
   "source": [
    "plt.show()"
   ]
  },
  {
   "cell_type": "code",
   "execution_count": null,
   "id": "e50e2af9-bc05-407e-8a5f-1f144831a703",
   "metadata": {},
   "outputs": [],
   "source": [
    "# retired voters contributed the highest amount\n",
    "\n",
    "# we see that people who were unemployed/ not employed had contributed "
   ]
  }
 ],
 "metadata": {
  "kernelspec": {
   "display_name": "Python 3 (ipykernel)",
   "language": "python",
   "name": "python3"
  },
  "language_info": {
   "codemirror_mode": {
    "name": "ipython",
    "version": 3
   },
   "file_extension": ".py",
   "mimetype": "text/x-python",
   "name": "python",
   "nbconvert_exporter": "python",
   "pygments_lexer": "ipython3",
   "version": "3.12.7"
  }
 },
 "nbformat": 4,
 "nbformat_minor": 5
}

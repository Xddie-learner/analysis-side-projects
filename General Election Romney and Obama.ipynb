{
 "cells": [
  {
   "cell_type": "code",
   "execution_count": 1,
   "id": "c0605f83-9afc-4f62-8276-c7fabfb0893d",
   "metadata": {},
   "outputs": [],
   "source": [
    "import pandas as pd\n",
    "import numpy as np\n",
    "import seaborn as sns"
   ]
  },
  {
   "cell_type": "code",
   "execution_count": 2,
   "id": "b599a131-8982-4f86-a07d-223ecb7fc88d",
   "metadata": {},
   "outputs": [],
   "source": [
    "import matplotlib.pyplot as plt\n",
    "%matplotlib inline"
   ]
  },
  {
   "cell_type": "code",
   "execution_count": 3,
   "id": "4f8a4491-c28d-4014-93e0-2c59727a2351",
   "metadata": {},
   "outputs": [],
   "source": [
    "sns.set_style(\"whitegrid\")"
   ]
  },
  {
   "cell_type": "code",
   "execution_count": 4,
   "id": "e590c3e1-b03e-42d4-b4ab-eecb5ff57767",
   "metadata": {},
   "outputs": [],
   "source": [
    "# import requests and BeautifulSoup"
   ]
  },
  {
   "cell_type": "code",
   "execution_count": 5,
   "id": "a801cd2a-5200-40a6-a9f2-b128edd70833",
   "metadata": {},
   "outputs": [],
   "source": [
    "import requests\n",
    "import bs4"
   ]
  },
  {
   "cell_type": "code",
   "execution_count": 6,
   "id": "2f24548b-8d75-46b2-9e17-169a49375a2d",
   "metadata": {},
   "outputs": [],
   "source": [
    "# result = requests.get(\"URL\")"
   ]
  },
  {
   "cell_type": "code",
   "execution_count": 7,
   "id": "591b0ac2-bdd3-4de7-8c66-81f4d0d7b37a",
   "metadata": {},
   "outputs": [],
   "source": [
    "# soup = bs4.BeautifulSoup(result.text,\"lxml\"  --> a language to decipher) "
   ]
  },
  {
   "cell_type": "code",
   "execution_count": 8,
   "id": "348dbbef-e116-4b14-bf69-eee591645195",
   "metadata": {},
   "outputs": [],
   "source": [
    "my_election_path = r\"C:\\Users\\Eddie\\OneDrive\\Desktop\\Python\\Python for Data Analysis\\Practices\\Data Statistics\\election analysis\\American Election\\Election data\\2012-general-election-romney-vs-obama.csv\""
   ]
  },
  {
   "cell_type": "code",
   "execution_count": 9,
   "id": "2d1c6d59-49cb-4b58-a00e-2fd0842e9cb1",
   "metadata": {},
   "outputs": [],
   "source": [
    "poll_df = pd.read_csv(my_election_path)"
   ]
  },
  {
   "cell_type": "code",
   "execution_count": 10,
   "id": "d40b6bc1-cb62-4332-91d1-ca33bc9201ee",
   "metadata": {},
   "outputs": [
    {
     "name": "stdout",
     "output_type": "stream",
     "text": [
      "<class 'pandas.core.frame.DataFrame'>\n",
      "RangeIndex: 590 entries, 0 to 589\n",
      "Data columns (total 17 columns):\n",
      " #   Column                  Non-Null Count  Dtype  \n",
      "---  ------                  --------------  -----  \n",
      " 0   Pollster                590 non-null    object \n",
      " 1   Start Date              590 non-null    object \n",
      " 2   End Date                590 non-null    object \n",
      " 3   Entry Date/Time (ET)    590 non-null    object \n",
      " 4   Number of Observations  568 non-null    float64\n",
      " 5   Population              590 non-null    object \n",
      " 6   Mode                    590 non-null    object \n",
      " 7   Obama                   590 non-null    float64\n",
      " 8   Romney                  590 non-null    float64\n",
      " 9   Undecided               423 non-null    float64\n",
      " 10  Other                   202 non-null    float64\n",
      " 11  Pollster URL            590 non-null    object \n",
      " 12  Source URL              588 non-null    object \n",
      " 13  Partisan                590 non-null    object \n",
      " 14  Affiliation             106 non-null    object \n",
      " 15  Question Text           0 non-null      float64\n",
      " 16  Question Iteration      590 non-null    int64  \n",
      "dtypes: float64(6), int64(1), object(10)\n",
      "memory usage: 78.5+ KB\n"
     ]
    }
   ],
   "source": [
    "poll_df.info()"
   ]
  },
  {
   "cell_type": "code",
   "execution_count": 11,
   "id": "f46b8584-a452-4da5-82b9-c224abf30f83",
   "metadata": {},
   "outputs": [
    {
     "data": {
      "text/html": [
       "<div>\n",
       "<style scoped>\n",
       "    .dataframe tbody tr th:only-of-type {\n",
       "        vertical-align: middle;\n",
       "    }\n",
       "\n",
       "    .dataframe tbody tr th {\n",
       "        vertical-align: top;\n",
       "    }\n",
       "\n",
       "    .dataframe thead th {\n",
       "        text-align: right;\n",
       "    }\n",
       "</style>\n",
       "<table border=\"1\" class=\"dataframe\">\n",
       "  <thead>\n",
       "    <tr style=\"text-align: right;\">\n",
       "      <th></th>\n",
       "      <th>Pollster</th>\n",
       "      <th>Start Date</th>\n",
       "      <th>End Date</th>\n",
       "      <th>Entry Date/Time (ET)</th>\n",
       "      <th>Number of Observations</th>\n",
       "      <th>Population</th>\n",
       "      <th>Mode</th>\n",
       "      <th>Obama</th>\n",
       "      <th>Romney</th>\n",
       "      <th>Undecided</th>\n",
       "      <th>Other</th>\n",
       "      <th>Pollster URL</th>\n",
       "      <th>Source URL</th>\n",
       "      <th>Partisan</th>\n",
       "      <th>Affiliation</th>\n",
       "      <th>Question Text</th>\n",
       "      <th>Question Iteration</th>\n",
       "    </tr>\n",
       "  </thead>\n",
       "  <tbody>\n",
       "    <tr>\n",
       "      <th>0</th>\n",
       "      <td>Politico/GWU/Battleground</td>\n",
       "      <td>2012-11-04</td>\n",
       "      <td>2012-11-05</td>\n",
       "      <td>2012-11-06T08:40:26Z</td>\n",
       "      <td>1000.0</td>\n",
       "      <td>Likely Voters</td>\n",
       "      <td>Live Phone</td>\n",
       "      <td>47.0</td>\n",
       "      <td>47.0</td>\n",
       "      <td>6.0</td>\n",
       "      <td>NaN</td>\n",
       "      <td>http://elections.huffingtonpost.com/pollster/p...</td>\n",
       "      <td>http://www.politico.com/news/stories/1112/8338...</td>\n",
       "      <td>Nonpartisan</td>\n",
       "      <td>NaN</td>\n",
       "      <td>NaN</td>\n",
       "      <td>1</td>\n",
       "    </tr>\n",
       "    <tr>\n",
       "      <th>1</th>\n",
       "      <td>YouGov/Economist</td>\n",
       "      <td>2012-11-03</td>\n",
       "      <td>2012-11-05</td>\n",
       "      <td>2012-11-26T15:31:23Z</td>\n",
       "      <td>740.0</td>\n",
       "      <td>Likely Voters</td>\n",
       "      <td>Internet</td>\n",
       "      <td>49.0</td>\n",
       "      <td>47.0</td>\n",
       "      <td>3.0</td>\n",
       "      <td>NaN</td>\n",
       "      <td>http://elections.huffingtonpost.com/pollster/p...</td>\n",
       "      <td>http://cdn.yougov.com/cumulus_uploads/document...</td>\n",
       "      <td>Nonpartisan</td>\n",
       "      <td>NaN</td>\n",
       "      <td>NaN</td>\n",
       "      <td>1</td>\n",
       "    </tr>\n",
       "    <tr>\n",
       "      <th>2</th>\n",
       "      <td>Gravis Marketing</td>\n",
       "      <td>2012-11-03</td>\n",
       "      <td>2012-11-05</td>\n",
       "      <td>2012-11-06T09:22:02Z</td>\n",
       "      <td>872.0</td>\n",
       "      <td>Likely Voters</td>\n",
       "      <td>Automated Phone</td>\n",
       "      <td>48.0</td>\n",
       "      <td>48.0</td>\n",
       "      <td>4.0</td>\n",
       "      <td>NaN</td>\n",
       "      <td>http://elections.huffingtonpost.com/pollster/p...</td>\n",
       "      <td>http://www.gravispolls.com/2012/11/gravis-mark...</td>\n",
       "      <td>Nonpartisan</td>\n",
       "      <td>NaN</td>\n",
       "      <td>NaN</td>\n",
       "      <td>1</td>\n",
       "    </tr>\n",
       "    <tr>\n",
       "      <th>3</th>\n",
       "      <td>IBD/TIPP</td>\n",
       "      <td>2012-11-03</td>\n",
       "      <td>2012-11-05</td>\n",
       "      <td>2012-11-06T08:51:48Z</td>\n",
       "      <td>712.0</td>\n",
       "      <td>Likely Voters</td>\n",
       "      <td>Live Phone</td>\n",
       "      <td>50.0</td>\n",
       "      <td>49.0</td>\n",
       "      <td>NaN</td>\n",
       "      <td>1.0</td>\n",
       "      <td>http://elections.huffingtonpost.com/pollster/p...</td>\n",
       "      <td>http://news.investors.com/special-report/50841...</td>\n",
       "      <td>Nonpartisan</td>\n",
       "      <td>NaN</td>\n",
       "      <td>NaN</td>\n",
       "      <td>1</td>\n",
       "    </tr>\n",
       "    <tr>\n",
       "      <th>4</th>\n",
       "      <td>Rasmussen</td>\n",
       "      <td>2012-11-03</td>\n",
       "      <td>2012-11-05</td>\n",
       "      <td>2012-11-06T08:47:50Z</td>\n",
       "      <td>1500.0</td>\n",
       "      <td>Likely Voters</td>\n",
       "      <td>Automated Phone</td>\n",
       "      <td>48.0</td>\n",
       "      <td>49.0</td>\n",
       "      <td>NaN</td>\n",
       "      <td>NaN</td>\n",
       "      <td>http://elections.huffingtonpost.com/pollster/p...</td>\n",
       "      <td>http://www.rasmussenreports.com/public_content...</td>\n",
       "      <td>Nonpartisan</td>\n",
       "      <td>NaN</td>\n",
       "      <td>NaN</td>\n",
       "      <td>1</td>\n",
       "    </tr>\n",
       "    <tr>\n",
       "      <th>5</th>\n",
       "      <td>JZ Analytics/Newsmax</td>\n",
       "      <td>2012-11-03</td>\n",
       "      <td>2012-11-05</td>\n",
       "      <td>2012-11-06T07:38:41Z</td>\n",
       "      <td>1041.0</td>\n",
       "      <td>Likely Voters</td>\n",
       "      <td>Internet</td>\n",
       "      <td>47.0</td>\n",
       "      <td>47.0</td>\n",
       "      <td>6.0</td>\n",
       "      <td>NaN</td>\n",
       "      <td>http://elections.huffingtonpost.com/pollster/p...</td>\n",
       "      <td>http://www.jzanalytics.com/</td>\n",
       "      <td>Sponsor</td>\n",
       "      <td>Rep</td>\n",
       "      <td>NaN</td>\n",
       "      <td>1</td>\n",
       "    </tr>\n",
       "    <tr>\n",
       "      <th>6</th>\n",
       "      <td>UPI/CVOTER</td>\n",
       "      <td>2012-11-03</td>\n",
       "      <td>2012-11-05</td>\n",
       "      <td>2012-11-05T18:30:15Z</td>\n",
       "      <td>3000.0</td>\n",
       "      <td>Likely Voters</td>\n",
       "      <td>Live Phone</td>\n",
       "      <td>49.0</td>\n",
       "      <td>48.0</td>\n",
       "      <td>NaN</td>\n",
       "      <td>NaN</td>\n",
       "      <td>http://elections.huffingtonpost.com/pollster/p...</td>\n",
       "      <td>NaN</td>\n",
       "      <td>Nonpartisan</td>\n",
       "      <td>NaN</td>\n",
       "      <td>NaN</td>\n",
       "      <td>1</td>\n",
       "    </tr>\n",
       "    <tr>\n",
       "      <th>7</th>\n",
       "      <td>Ipsos/Reuters (Web)</td>\n",
       "      <td>2012-11-01</td>\n",
       "      <td>2012-11-05</td>\n",
       "      <td>2012-11-05T16:12:48Z</td>\n",
       "      <td>4725.0</td>\n",
       "      <td>Likely Voters</td>\n",
       "      <td>Internet</td>\n",
       "      <td>48.0</td>\n",
       "      <td>46.0</td>\n",
       "      <td>4.0</td>\n",
       "      <td>2.0</td>\n",
       "      <td>http://elections.huffingtonpost.com/pollster/p...</td>\n",
       "      <td>http://big.assets.huffingtonpost.com/ipsos1105...</td>\n",
       "      <td>Nonpartisan</td>\n",
       "      <td>NaN</td>\n",
       "      <td>NaN</td>\n",
       "      <td>1</td>\n",
       "    </tr>\n",
       "    <tr>\n",
       "      <th>8</th>\n",
       "      <td>ARG</td>\n",
       "      <td>2012-11-02</td>\n",
       "      <td>2012-11-04</td>\n",
       "      <td>2012-11-05T13:06:54Z</td>\n",
       "      <td>1200.0</td>\n",
       "      <td>Likely Voters</td>\n",
       "      <td>Live Phone</td>\n",
       "      <td>49.0</td>\n",
       "      <td>49.0</td>\n",
       "      <td>1.0</td>\n",
       "      <td>1.0</td>\n",
       "      <td>http://elections.huffingtonpost.com/pollster/p...</td>\n",
       "      <td>http://americanresearchgroup.com/pres2012/NA12...</td>\n",
       "      <td>Nonpartisan</td>\n",
       "      <td>NaN</td>\n",
       "      <td>NaN</td>\n",
       "      <td>1</td>\n",
       "    </tr>\n",
       "    <tr>\n",
       "      <th>9</th>\n",
       "      <td>PPP (D-Americans United for Change)</td>\n",
       "      <td>2012-11-02</td>\n",
       "      <td>2012-11-04</td>\n",
       "      <td>2012-11-04T22:32:19Z</td>\n",
       "      <td>1200.0</td>\n",
       "      <td>Likely Voters</td>\n",
       "      <td>Automated Phone</td>\n",
       "      <td>50.0</td>\n",
       "      <td>48.0</td>\n",
       "      <td>3.0</td>\n",
       "      <td>NaN</td>\n",
       "      <td>http://elections.huffingtonpost.com/pollster/p...</td>\n",
       "      <td>http://www.publicpolicypolling.com/pdf/2011/PP...</td>\n",
       "      <td>Sponsor</td>\n",
       "      <td>Dem</td>\n",
       "      <td>NaN</td>\n",
       "      <td>1</td>\n",
       "    </tr>\n",
       "  </tbody>\n",
       "</table>\n",
       "</div>"
      ],
      "text/plain": [
       "                              Pollster  Start Date    End Date  \\\n",
       "0            Politico/GWU/Battleground  2012-11-04  2012-11-05   \n",
       "1                     YouGov/Economist  2012-11-03  2012-11-05   \n",
       "2                     Gravis Marketing  2012-11-03  2012-11-05   \n",
       "3                             IBD/TIPP  2012-11-03  2012-11-05   \n",
       "4                            Rasmussen  2012-11-03  2012-11-05   \n",
       "5                 JZ Analytics/Newsmax  2012-11-03  2012-11-05   \n",
       "6                           UPI/CVOTER  2012-11-03  2012-11-05   \n",
       "7                  Ipsos/Reuters (Web)  2012-11-01  2012-11-05   \n",
       "8                                  ARG  2012-11-02  2012-11-04   \n",
       "9  PPP (D-Americans United for Change)  2012-11-02  2012-11-04   \n",
       "\n",
       "   Entry Date/Time (ET)  Number of Observations     Population  \\\n",
       "0  2012-11-06T08:40:26Z                  1000.0  Likely Voters   \n",
       "1  2012-11-26T15:31:23Z                   740.0  Likely Voters   \n",
       "2  2012-11-06T09:22:02Z                   872.0  Likely Voters   \n",
       "3  2012-11-06T08:51:48Z                   712.0  Likely Voters   \n",
       "4  2012-11-06T08:47:50Z                  1500.0  Likely Voters   \n",
       "5  2012-11-06T07:38:41Z                  1041.0  Likely Voters   \n",
       "6  2012-11-05T18:30:15Z                  3000.0  Likely Voters   \n",
       "7  2012-11-05T16:12:48Z                  4725.0  Likely Voters   \n",
       "8  2012-11-05T13:06:54Z                  1200.0  Likely Voters   \n",
       "9  2012-11-04T22:32:19Z                  1200.0  Likely Voters   \n",
       "\n",
       "              Mode  Obama  Romney  Undecided  Other  \\\n",
       "0       Live Phone   47.0    47.0        6.0    NaN   \n",
       "1         Internet   49.0    47.0        3.0    NaN   \n",
       "2  Automated Phone   48.0    48.0        4.0    NaN   \n",
       "3       Live Phone   50.0    49.0        NaN    1.0   \n",
       "4  Automated Phone   48.0    49.0        NaN    NaN   \n",
       "5         Internet   47.0    47.0        6.0    NaN   \n",
       "6       Live Phone   49.0    48.0        NaN    NaN   \n",
       "7         Internet   48.0    46.0        4.0    2.0   \n",
       "8       Live Phone   49.0    49.0        1.0    1.0   \n",
       "9  Automated Phone   50.0    48.0        3.0    NaN   \n",
       "\n",
       "                                        Pollster URL  \\\n",
       "0  http://elections.huffingtonpost.com/pollster/p...   \n",
       "1  http://elections.huffingtonpost.com/pollster/p...   \n",
       "2  http://elections.huffingtonpost.com/pollster/p...   \n",
       "3  http://elections.huffingtonpost.com/pollster/p...   \n",
       "4  http://elections.huffingtonpost.com/pollster/p...   \n",
       "5  http://elections.huffingtonpost.com/pollster/p...   \n",
       "6  http://elections.huffingtonpost.com/pollster/p...   \n",
       "7  http://elections.huffingtonpost.com/pollster/p...   \n",
       "8  http://elections.huffingtonpost.com/pollster/p...   \n",
       "9  http://elections.huffingtonpost.com/pollster/p...   \n",
       "\n",
       "                                          Source URL     Partisan Affiliation  \\\n",
       "0  http://www.politico.com/news/stories/1112/8338...  Nonpartisan         NaN   \n",
       "1  http://cdn.yougov.com/cumulus_uploads/document...  Nonpartisan         NaN   \n",
       "2  http://www.gravispolls.com/2012/11/gravis-mark...  Nonpartisan         NaN   \n",
       "3  http://news.investors.com/special-report/50841...  Nonpartisan         NaN   \n",
       "4  http://www.rasmussenreports.com/public_content...  Nonpartisan         NaN   \n",
       "5                        http://www.jzanalytics.com/      Sponsor         Rep   \n",
       "6                                                NaN  Nonpartisan         NaN   \n",
       "7  http://big.assets.huffingtonpost.com/ipsos1105...  Nonpartisan         NaN   \n",
       "8  http://americanresearchgroup.com/pres2012/NA12...  Nonpartisan         NaN   \n",
       "9  http://www.publicpolicypolling.com/pdf/2011/PP...      Sponsor         Dem   \n",
       "\n",
       "   Question Text  Question Iteration  \n",
       "0            NaN                   1  \n",
       "1            NaN                   1  \n",
       "2            NaN                   1  \n",
       "3            NaN                   1  \n",
       "4            NaN                   1  \n",
       "5            NaN                   1  \n",
       "6            NaN                   1  \n",
       "7            NaN                   1  \n",
       "8            NaN                   1  \n",
       "9            NaN                   1  "
      ]
     },
     "execution_count": 11,
     "metadata": {},
     "output_type": "execute_result"
    }
   ],
   "source": [
    "poll_df.head(10)"
   ]
  },
  {
   "cell_type": "markdown",
   "id": "d904438d-5ce5-4e89-ba17-c324c30b2291",
   "metadata": {
    "jp-MarkdownHeadingCollapsed": true
   },
   "source": [
    "# Who was being polled and what was their party affiliation ?"
   ]
  },
  {
   "cell_type": "code",
   "execution_count": 12,
   "id": "caaa4e27-da29-4d1c-8e5a-2547dd56d097",
   "metadata": {},
   "outputs": [],
   "source": [
    "# overview of the affiliation (person’s connection with a political party)"
   ]
  },
  {
   "cell_type": "code",
   "execution_count": 13,
   "id": "a354b2fd-81de-4abb-8502-7f2965bd55f1",
   "metadata": {},
   "outputs": [
    {
     "data": {
      "text/plain": [
       "<Axes: xlabel='Affiliation', ylabel='count'>"
      ]
     },
     "execution_count": 13,
     "metadata": {},
     "output_type": "execute_result"
    }
   ],
   "source": [
    "sns.countplot(x= \"Affiliation\", data = poll_df)"
   ]
  },
  {
   "cell_type": "code",
   "execution_count": 14,
   "id": "ee63c425-2602-467e-91d4-f267e3d69ac7",
   "metadata": {},
   "outputs": [
    {
     "data": {
      "image/png": "[encoded data removed]",
      "text/plain": [
       "<Figure size 640x480 with 1 Axes>"
      ]
     },
     "metadata": {},
     "output_type": "display_data"
    }
   ],
   "source": [
    "plt.show()"
   ]
  },
  {
   "cell_type": "code",
   "execution_count": 15,
   "id": "73772486-831c-4532-bf6b-d7ad4f6ce683",
   "metadata": {},
   "outputs": [
    {
     "data": {
      "text/plain": [
       "Affiliation\n",
       "Dem      93\n",
       "Rep       9\n",
       "Other     4\n",
       "Name: count, dtype: int64"
      ]
     },
     "execution_count": 15,
     "metadata": {},
     "output_type": "execute_result"
    }
   ],
   "source": [
    "poll_df[\"Affiliation\"].value_counts()"
   ]
  },
  {
   "cell_type": "code",
   "execution_count": 16,
   "id": "85f07b12-802e-4116-94f8-080f5d0e6176",
   "metadata": {},
   "outputs": [],
   "source": [
    "# We have 106 non-null value while there are 590 data being stored.\n",
    "\n",
    "# For NaN_value in Affiliation, it means that they no belong to any political parties.\n",
    "\n",
    "# We are going to adjust the Nah value to None or No Party, using map and lambda\n",
    "\n",
    "# apply( if-con function) also works"
   ]
  },
  {
   "cell_type": "code",
   "execution_count": 17,
   "id": "d636dbba-33d2-4cc5-8bb6-252b25ac5d18",
   "metadata": {},
   "outputs": [],
   "source": [
    "poll_df[\"Adj_Party\"] = poll_df[\"Affiliation\"].map(lambda x: \"Democratic\" if x == \"Dem\" else\"Republican\" if x == \"Rep\" else \"No Party\")"
   ]
  },
  {
   "cell_type": "code",
   "execution_count": 18,
   "id": "090ba182-4909-4661-907a-6ef986b009d7",
   "metadata": {},
   "outputs": [
    {
     "data": {
      "text/html": [
       "<div>\n",
       "<style scoped>\n",
       "    .dataframe tbody tr th:only-of-type {\n",
       "        vertical-align: middle;\n",
       "    }\n",
       "\n",
       "    .dataframe tbody tr th {\n",
       "        vertical-align: top;\n",
       "    }\n",
       "\n",
       "    .dataframe thead th {\n",
       "        text-align: right;\n",
       "    }\n",
       "</style>\n",
       "<table border=\"1\" class=\"dataframe\">\n",
       "  <thead>\n",
       "    <tr style=\"text-align: right;\">\n",
       "      <th></th>\n",
       "      <th>Pollster</th>\n",
       "      <th>Start Date</th>\n",
       "      <th>End Date</th>\n",
       "      <th>Entry Date/Time (ET)</th>\n",
       "      <th>Number of Observations</th>\n",
       "      <th>Population</th>\n",
       "      <th>Mode</th>\n",
       "      <th>Obama</th>\n",
       "      <th>Romney</th>\n",
       "      <th>Undecided</th>\n",
       "      <th>Other</th>\n",
       "      <th>Pollster URL</th>\n",
       "      <th>Source URL</th>\n",
       "      <th>Partisan</th>\n",
       "      <th>Affiliation</th>\n",
       "      <th>Question Text</th>\n",
       "      <th>Question Iteration</th>\n",
       "      <th>Adj_Party</th>\n",
       "    </tr>\n",
       "  </thead>\n",
       "  <tbody>\n",
       "    <tr>\n",
       "      <th>0</th>\n",
       "      <td>Politico/GWU/Battleground</td>\n",
       "      <td>2012-11-04</td>\n",
       "      <td>2012-11-05</td>\n",
       "      <td>2012-11-06T08:40:26Z</td>\n",
       "      <td>1000.0</td>\n",
       "      <td>Likely Voters</td>\n",
       "      <td>Live Phone</td>\n",
       "      <td>47.0</td>\n",
       "      <td>47.0</td>\n",
       "      <td>6.0</td>\n",
       "      <td>NaN</td>\n",
       "      <td>http://elections.huffingtonpost.com/pollster/p...</td>\n",
       "      <td>http://www.politico.com/news/stories/1112/8338...</td>\n",
       "      <td>Nonpartisan</td>\n",
       "      <td>NaN</td>\n",
       "      <td>NaN</td>\n",
       "      <td>1</td>\n",
       "      <td>No Party</td>\n",
       "    </tr>\n",
       "    <tr>\n",
       "      <th>1</th>\n",
       "      <td>YouGov/Economist</td>\n",
       "      <td>2012-11-03</td>\n",
       "      <td>2012-11-05</td>\n",
       "      <td>2012-11-26T15:31:23Z</td>\n",
       "      <td>740.0</td>\n",
       "      <td>Likely Voters</td>\n",
       "      <td>Internet</td>\n",
       "      <td>49.0</td>\n",
       "      <td>47.0</td>\n",
       "      <td>3.0</td>\n",
       "      <td>NaN</td>\n",
       "      <td>http://elections.huffingtonpost.com/pollster/p...</td>\n",
       "      <td>http://cdn.yougov.com/cumulus_uploads/document...</td>\n",
       "      <td>Nonpartisan</td>\n",
       "      <td>NaN</td>\n",
       "      <td>NaN</td>\n",
       "      <td>1</td>\n",
       "      <td>No Party</td>\n",
       "    </tr>\n",
       "    <tr>\n",
       "      <th>2</th>\n",
       "      <td>Gravis Marketing</td>\n",
       "      <td>2012-11-03</td>\n",
       "      <td>2012-11-05</td>\n",
       "      <td>2012-11-06T09:22:02Z</td>\n",
       "      <td>872.0</td>\n",
       "      <td>Likely Voters</td>\n",
       "      <td>Automated Phone</td>\n",
       "      <td>48.0</td>\n",
       "      <td>48.0</td>\n",
       "      <td>4.0</td>\n",
       "      <td>NaN</td>\n",
       "      <td>http://elections.huffingtonpost.com/pollster/p...</td>\n",
       "      <td>http://www.gravispolls.com/2012/11/gravis-mark...</td>\n",
       "      <td>Nonpartisan</td>\n",
       "      <td>NaN</td>\n",
       "      <td>NaN</td>\n",
       "      <td>1</td>\n",
       "      <td>No Party</td>\n",
       "    </tr>\n",
       "    <tr>\n",
       "      <th>3</th>\n",
       "      <td>IBD/TIPP</td>\n",
       "      <td>2012-11-03</td>\n",
       "      <td>2012-11-05</td>\n",
       "      <td>2012-11-06T08:51:48Z</td>\n",
       "      <td>712.0</td>\n",
       "      <td>Likely Voters</td>\n",
       "      <td>Live Phone</td>\n",
       "      <td>50.0</td>\n",
       "      <td>49.0</td>\n",
       "      <td>NaN</td>\n",
       "      <td>1.0</td>\n",
       "      <td>http://elections.huffingtonpost.com/pollster/p...</td>\n",
       "      <td>http://news.investors.com/special-report/50841...</td>\n",
       "      <td>Nonpartisan</td>\n",
       "      <td>NaN</td>\n",
       "      <td>NaN</td>\n",
       "      <td>1</td>\n",
       "      <td>No Party</td>\n",
       "    </tr>\n",
       "    <tr>\n",
       "      <th>4</th>\n",
       "      <td>Rasmussen</td>\n",
       "      <td>2012-11-03</td>\n",
       "      <td>2012-11-05</td>\n",
       "      <td>2012-11-06T08:47:50Z</td>\n",
       "      <td>1500.0</td>\n",
       "      <td>Likely Voters</td>\n",
       "      <td>Automated Phone</td>\n",
       "      <td>48.0</td>\n",
       "      <td>49.0</td>\n",
       "      <td>NaN</td>\n",
       "      <td>NaN</td>\n",
       "      <td>http://elections.huffingtonpost.com/pollster/p...</td>\n",
       "      <td>http://www.rasmussenreports.com/public_content...</td>\n",
       "      <td>Nonpartisan</td>\n",
       "      <td>NaN</td>\n",
       "      <td>NaN</td>\n",
       "      <td>1</td>\n",
       "      <td>No Party</td>\n",
       "    </tr>\n",
       "  </tbody>\n",
       "</table>\n",
       "</div>"
      ],
      "text/plain": [
       "                    Pollster  Start Date    End Date  Entry Date/Time (ET)  \\\n",
       "0  Politico/GWU/Battleground  2012-11-04  2012-11-05  2012-11-06T08:40:26Z   \n",
       "1           YouGov/Economist  2012-11-03  2012-11-05  2012-11-26T15:31:23Z   \n",
       "2           Gravis Marketing  2012-11-03  2012-11-05  2012-11-06T09:22:02Z   \n",
       "3                   IBD/TIPP  2012-11-03  2012-11-05  2012-11-06T08:51:48Z   \n",
       "4                  Rasmussen  2012-11-03  2012-11-05  2012-11-06T08:47:50Z   \n",
       "\n",
       "   Number of Observations     Population             Mode  Obama  Romney  \\\n",
       "0                  1000.0  Likely Voters       Live Phone   47.0    47.0   \n",
       "1                   740.0  Likely Voters         Internet   49.0    47.0   \n",
       "2                   872.0  Likely Voters  Automated Phone   48.0    48.0   \n",
       "3                   712.0  Likely Voters       Live Phone   50.0    49.0   \n",
       "4                  1500.0  Likely Voters  Automated Phone   48.0    49.0   \n",
       "\n",
       "   Undecided  Other                                       Pollster URL  \\\n",
       "0        6.0    NaN  http://elections.huffingtonpost.com/pollster/p...   \n",
       "1        3.0    NaN  http://elections.huffingtonpost.com/pollster/p...   \n",
       "2        4.0    NaN  http://elections.huffingtonpost.com/pollster/p...   \n",
       "3        NaN    1.0  http://elections.huffingtonpost.com/pollster/p...   \n",
       "4        NaN    NaN  http://elections.huffingtonpost.com/pollster/p...   \n",
       "\n",
       "                                          Source URL     Partisan Affiliation  \\\n",
       "0  http://www.politico.com/news/stories/1112/8338...  Nonpartisan         NaN   \n",
       "1  http://cdn.yougov.com/cumulus_uploads/document...  Nonpartisan         NaN   \n",
       "2  http://www.gravispolls.com/2012/11/gravis-mark...  Nonpartisan         NaN   \n",
       "3  http://news.investors.com/special-report/50841...  Nonpartisan         NaN   \n",
       "4  http://www.rasmussenreports.com/public_content...  Nonpartisan         NaN   \n",
       "\n",
       "   Question Text  Question Iteration Adj_Party  \n",
       "0            NaN                   1  No Party  \n",
       "1            NaN                   1  No Party  \n",
       "2            NaN                   1  No Party  \n",
       "3            NaN                   1  No Party  \n",
       "4            NaN                   1  No Party  "
      ]
     },
     "execution_count": 18,
     "metadata": {},
     "output_type": "execute_result"
    }
   ],
   "source": [
    "poll_df.head()"
   ]
  },
  {
   "cell_type": "code",
   "execution_count": 19,
   "id": "10b06f01-c2c8-450b-ab49-625ba0274805",
   "metadata": {},
   "outputs": [
    {
     "data": {
      "text/plain": [
       "Text(0.5, 0, 'Parties')"
      ]
     },
     "execution_count": 19,
     "metadata": {},
     "output_type": "execute_result"
    }
   ],
   "source": [
    "sns.countplot(x= \"Adj_Party\", data = poll_df)\n",
    "plt.xlabel(\"Parties\")"
   ]
  },
  {
   "cell_type": "code",
   "execution_count": 20,
   "id": "8d7e2dfc-9753-4ef2-9493-104341ef65d5",
   "metadata": {},
   "outputs": [
    {
     "data": {
      "image/png": "[encoded data removed]",
      "text/plain": [
       "<Figure size 640x480 with 1 Axes>"
      ]
     },
     "metadata": {},
     "output_type": "display_data"
    }
   ],
   "source": [
    "plt.show()"
   ]
  },
  {
   "cell_type": "code",
   "execution_count": 21,
   "id": "2104ad47-5178-46d2-8125-7db74c637b00",
   "metadata": {},
   "outputs": [],
   "source": [
    "# we notice that most of the poll had no affiliation which show a strong neutrality in these polls\n",
    "\n",
    "# There was quite a bit more polls that affiliated with Dem than with the Rep, which we should look at laters"
   ]
  },
  {
   "cell_type": "code",
   "execution_count": 22,
   "id": "04715c1a-b5a4-40f6-934a-e0c909a426fd",
   "metadata": {},
   "outputs": [
    {
     "data": {
      "text/plain": [
       "<Axes: xlabel='Adj_Party', ylabel='count'>"
      ]
     },
     "execution_count": 22,
     "metadata": {},
     "output_type": "execute_result"
    }
   ],
   "source": [
    "sns.countplot(x = \"Adj_Party\", data = poll_df, hue = \"Population\")"
   ]
  },
  {
   "cell_type": "code",
   "execution_count": 23,
   "id": "99ede55b-7132-4c6f-9c89-6c3230e56e69",
   "metadata": {},
   "outputs": [
    {
     "data": {
      "image/png": "[encoded data removed]",
      "text/plain": [
       "<Figure size 640x480 with 1 Axes>"
      ]
     },
     "metadata": {},
     "output_type": "display_data"
    }
   ],
   "source": [
    "plt.show()"
   ]
  },
  {
   "cell_type": "code",
   "execution_count": 24,
   "id": "193c4b97-482a-4141-96fa-5795c4eb975a",
   "metadata": {},
   "outputs": [],
   "source": [
    "# It showed that there are significant numbers of likely voters and registered voters\n",
    "# They were likely not to participate in any policatical parties\n",
    "# It showed that Democratic had the favor as they had more vote"
   ]
  },
  {
   "cell_type": "markdown",
   "id": "cb192ca3-e5aa-48ff-a304-8854d16f8830",
   "metadata": {},
   "source": [
    "# Did the poll results favor Romney or Obama?"
   ]
  },
  {
   "cell_type": "code",
   "execution_count": 25,
   "id": "749c4777-a247-4a2f-8b7e-35f7c6e8d1d6",
   "metadata": {},
   "outputs": [],
   "source": [
    "# create a new DataFrame to see the average poll for Obama, Romney and Undecided voter in percentage "
   ]
  },
  {
   "cell_type": "code",
   "execution_count": 26,
   "id": "0ad19325-ba94-48a8-b620-03a8ba3799eb",
   "metadata": {},
   "outputs": [],
   "source": [
    "avg = pd.DataFrame(poll_df[[\"Obama\",\"Romney\", \"Undecided\"]].mean())\n",
    "# avg.drop(\"Number of Observations\", axis = 0, inplace = True)"
   ]
  },
  {
   "cell_type": "code",
   "execution_count": 27,
   "id": "b25d2aec-5a45-46bc-8546-77a0c253bcd5",
   "metadata": {},
   "outputs": [
    {
     "data": {
      "text/html": [
       "<div>\n",
       "<style scoped>\n",
       "    .dataframe tbody tr th:only-of-type {\n",
       "        vertical-align: middle;\n",
       "    }\n",
       "\n",
       "    .dataframe tbody tr th {\n",
       "        vertical-align: top;\n",
       "    }\n",
       "\n",
       "    .dataframe thead th {\n",
       "        text-align: right;\n",
       "    }\n",
       "</style>\n",
       "<table border=\"1\" class=\"dataframe\">\n",
       "  <thead>\n",
       "    <tr style=\"text-align: right;\">\n",
       "      <th></th>\n",
       "      <th>0</th>\n",
       "    </tr>\n",
       "  </thead>\n",
       "  <tbody>\n",
       "    <tr>\n",
       "      <th>Obama</th>\n",
       "      <td>46.774576</td>\n",
       "    </tr>\n",
       "    <tr>\n",
       "      <th>Romney</th>\n",
       "      <td>44.572881</td>\n",
       "    </tr>\n",
       "    <tr>\n",
       "      <th>Undecided</th>\n",
       "      <td>6.546099</td>\n",
       "    </tr>\n",
       "  </tbody>\n",
       "</table>\n",
       "</div>"
      ],
      "text/plain": [
       "                   0\n",
       "Obama      46.774576\n",
       "Romney     44.572881\n",
       "Undecided   6.546099"
      ]
     },
     "execution_count": 27,
     "metadata": {},
     "output_type": "execute_result"
    }
   ],
   "source": [
    "avg"
   ]
  },
  {
   "cell_type": "code",
   "execution_count": 28,
   "id": "8f91c9b5-3b9e-4b50-a5c3-e6d79bc17626",
   "metadata": {},
   "outputs": [],
   "source": [
    "std = pd.DataFrame(poll_df[[\"Obama\",\"Romney\", \"Undecided\"]].std())"
   ]
  },
  {
   "cell_type": "code",
   "execution_count": 29,
   "id": "05e339d3-541a-429d-a38b-c7a3c4afd551",
   "metadata": {},
   "outputs": [
    {
     "data": {
      "text/html": [
       "<div>\n",
       "<style scoped>\n",
       "    .dataframe tbody tr th:only-of-type {\n",
       "        vertical-align: middle;\n",
       "    }\n",
       "\n",
       "    .dataframe tbody tr th {\n",
       "        vertical-align: top;\n",
       "    }\n",
       "\n",
       "    .dataframe thead th {\n",
       "        text-align: right;\n",
       "    }\n",
       "</style>\n",
       "<table border=\"1\" class=\"dataframe\">\n",
       "  <thead>\n",
       "    <tr style=\"text-align: right;\">\n",
       "      <th></th>\n",
       "      <th>0</th>\n",
       "    </tr>\n",
       "  </thead>\n",
       "  <tbody>\n",
       "    <tr>\n",
       "      <th>Obama</th>\n",
       "      <td>2.447069</td>\n",
       "    </tr>\n",
       "    <tr>\n",
       "      <th>Romney</th>\n",
       "      <td>2.925320</td>\n",
       "    </tr>\n",
       "    <tr>\n",
       "      <th>Undecided</th>\n",
       "      <td>3.698614</td>\n",
       "    </tr>\n",
       "  </tbody>\n",
       "</table>\n",
       "</div>"
      ],
      "text/plain": [
       "                  0\n",
       "Obama      2.447069\n",
       "Romney     2.925320\n",
       "Undecided  3.698614"
      ]
     },
     "execution_count": 29,
     "metadata": {},
     "output_type": "execute_result"
    }
   ],
   "source": [
    "std"
   ]
  },
  {
   "cell_type": "code",
   "execution_count": 30,
   "id": "56339c44-97c7-488e-bba3-59c3bc32e02b",
   "metadata": {},
   "outputs": [
    {
     "data": {
      "text/plain": [
       "<Axes: >"
      ]
     },
     "execution_count": 30,
     "metadata": {},
     "output_type": "execute_result"
    }
   ],
   "source": [
    "avg.plot(yerr = std, kind = \"bar\", legend = False)"
   ]
  },
  {
   "cell_type": "code",
   "execution_count": 31,
   "id": "d687a313-9ec4-4e98-bbea-a71ed96755a6",
   "metadata": {},
   "outputs": [
    {
     "data": {
      "image/png": "[encoded data removed]",
      "text/plain": [
       "<Figure size 640x480 with 1 Axes>"
      ]
     },
     "metadata": {},
     "output_type": "display_data"
    }
   ],
   "source": [
    "plt.show()"
   ]
  },
  {
   "cell_type": "code",
   "execution_count": 32,
   "id": "7a938e56-99d8-4ecf-a275-aa1089fe6cc5",
   "metadata": {},
   "outputs": [],
   "source": [
    "# concatenate our dataframes\n",
    "poll_stats = pd.concat([avg,std], axis = 1)\n",
    "# rename the columns\n",
    "poll_stats.columns =[\"Average\", \"STD\"]"
   ]
  },
  {
   "cell_type": "code",
   "execution_count": 33,
   "id": "2663616a-0071-41f8-b952-b4b81d2abe73",
   "metadata": {},
   "outputs": [
    {
     "data": {
      "text/html": [
       "<div>\n",
       "<style scoped>\n",
       "    .dataframe tbody tr th:only-of-type {\n",
       "        vertical-align: middle;\n",
       "    }\n",
       "\n",
       "    .dataframe tbody tr th {\n",
       "        vertical-align: top;\n",
       "    }\n",
       "\n",
       "    .dataframe thead th {\n",
       "        text-align: right;\n",
       "    }\n",
       "</style>\n",
       "<table border=\"1\" class=\"dataframe\">\n",
       "  <thead>\n",
       "    <tr style=\"text-align: right;\">\n",
       "      <th></th>\n",
       "      <th>Average</th>\n",
       "      <th>STD</th>\n",
       "    </tr>\n",
       "  </thead>\n",
       "  <tbody>\n",
       "    <tr>\n",
       "      <th>Obama</th>\n",
       "      <td>46.774576</td>\n",
       "      <td>2.447069</td>\n",
       "    </tr>\n",
       "    <tr>\n",
       "      <th>Romney</th>\n",
       "      <td>44.572881</td>\n",
       "      <td>2.925320</td>\n",
       "    </tr>\n",
       "    <tr>\n",
       "      <th>Undecided</th>\n",
       "      <td>6.546099</td>\n",
       "      <td>3.698614</td>\n",
       "    </tr>\n",
       "  </tbody>\n",
       "</table>\n",
       "</div>"
      ],
      "text/plain": [
       "             Average       STD\n",
       "Obama      46.774576  2.447069\n",
       "Romney     44.572881  2.925320\n",
       "Undecided   6.546099  3.698614"
      ]
     },
     "execution_count": 33,
     "metadata": {},
     "output_type": "execute_result"
    }
   ],
   "source": [
    "poll_stats"
   ]
  },
  {
   "cell_type": "code",
   "execution_count": 34,
   "id": "38a0502b-6d35-48cb-94b7-5362d4232cb0",
   "metadata": {},
   "outputs": [],
   "source": [
    "# we can notice it is a very close race between Obama and Romney\n",
    "\n",
    "# for undecided voters, most of them will likely to vote for one of the candidates once the election occured\n",
    "\n",
    "# if we assumed we splitted the undecided evenly between those twos, that should give us some sort of unbiased estimate of the final difference"
   ]
  },
  {
   "cell_type": "markdown",
   "id": "8ccde8e0-c074-47fa-8960-39536750b94a",
   "metadata": {},
   "source": [
    "# How did the voter sentiment change over time?"
   ]
  },
  {
   "cell_type": "code",
   "execution_count": 35,
   "id": "79af0a2b-1561-4956-9303-64ffa4d96a5c",
   "metadata": {},
   "outputs": [],
   "source": [
    "# We are going to do a quick time series analysis of voter sentiments by plotting obama, romney and undecided voters"
   ]
  },
  {
   "cell_type": "code",
   "execution_count": 36,
   "id": "012aa8b6-5c6f-4202-9597-68f8508b0517",
   "metadata": {},
   "outputs": [],
   "source": [
    "poll_df.plot(x = \"End Date\", y = [\"Obama\", \"Romney\", \"Undecided\"], linestyle = '', marker = 'o')\n",
    "\n",
    "# Note: the graph plotted in reverse (right to left)\n",
    "\n",
    "# To reverse the order of the x-axis (left to right in this case)\n",
    "plt.gca().invert_xaxis()"
   ]
  },
  {
   "cell_type": "code",
   "execution_count": 37,
   "id": "fcfc813c-02fe-460c-9f3d-45f975e477c9",
   "metadata": {},
   "outputs": [
    {
     "data": {
      "image/png": "[encoded data removed]",
      "text/plain": [
       "<Figure size 640x480 with 1 Axes>"
      ]
     },
     "metadata": {},
     "output_type": "display_data"
    }
   ],
   "source": [
    "plt.show()"
   ]
  },
  {
   "cell_type": "code",
   "execution_count": 38,
   "id": "c4e095ad-10b9-4aed-9fbc-724d90b5a5a1",
   "metadata": {},
   "outputs": [],
   "source": [
    "# We notice the size of undecided voter went down as we got closer to the selection, \n",
    "# Understandably they would have to choose a candidate as the selection came to an end.\n",
    "\n",
    "# We notice that Obama and Romney vote was getting closer and closer on the right hand side.\n",
    "# This was a very close race between 2 candidates for the president seat."
   ]
  },
  {
   "cell_type": "code",
   "execution_count": 40,
   "id": "afe80ecf-4046-49c2-ae15-7a4786a5984c",
   "metadata": {
    "jp-MarkdownHeadingCollapsed": true
   },
   "outputs": [],
   "source": [
    "# We gonna try and create a new dataframe for a better visualisation of the voter sentiment change "
   ]
  },
  {
   "cell_type": "code",
   "execution_count": 41,
   "id": "98b6b414-8e6c-4cd0-94f8-2abdf87921aa",
   "metadata": {},
   "outputs": [],
   "source": [
    "from datetime import datetime as dt"
   ]
  },
  {
   "cell_type": "code",
   "execution_count": 44,
   "id": "7d5910f4-4c53-4e88-ade7-e4107ae2c351",
   "metadata": {},
   "outputs": [],
   "source": [
    "# Create a new column indicate the difference in number of votes between obama and romney \n",
    "# devide by 100 to get the percentage "
   ]
  },
  {
   "cell_type": "code",
   "execution_count": 45,
   "id": "09b62fb2-ad2c-4ca8-9b81-60fea6407903",
   "metadata": {},
   "outputs": [],
   "source": [
    "poll_df[\"Vote_diff\"] = (poll_df.Obama - poll_df.Romney) /100"
   ]
  },
  {
   "cell_type": "code",
   "execution_count": 47,
   "id": "7da8fcb2-f8a2-431e-9ce0-9108249f936b",
   "metadata": {},
   "outputs": [
    {
     "data": {
      "text/html": [
       "<div>\n",
       "<style scoped>\n",
       "    .dataframe tbody tr th:only-of-type {\n",
       "        vertical-align: middle;\n",
       "    }\n",
       "\n",
       "    .dataframe tbody tr th {\n",
       "        vertical-align: top;\n",
       "    }\n",
       "\n",
       "    .dataframe thead th {\n",
       "        text-align: right;\n",
       "    }\n",
       "</style>\n",
       "<table border=\"1\" class=\"dataframe\">\n",
       "  <thead>\n",
       "    <tr style=\"text-align: right;\">\n",
       "      <th></th>\n",
       "      <th>Pollster</th>\n",
       "      <th>Start Date</th>\n",
       "      <th>End Date</th>\n",
       "      <th>Entry Date/Time (ET)</th>\n",
       "      <th>Number of Observations</th>\n",
       "      <th>Population</th>\n",
       "      <th>Mode</th>\n",
       "      <th>Obama</th>\n",
       "      <th>Romney</th>\n",
       "      <th>Undecided</th>\n",
       "      <th>Other</th>\n",
       "      <th>Pollster URL</th>\n",
       "      <th>Source URL</th>\n",
       "      <th>Partisan</th>\n",
       "      <th>Affiliation</th>\n",
       "      <th>Question Text</th>\n",
       "      <th>Question Iteration</th>\n",
       "      <th>Adj_Party</th>\n",
       "      <th>Vote_diff</th>\n",
       "    </tr>\n",
       "  </thead>\n",
       "  <tbody>\n",
       "    <tr>\n",
       "      <th>0</th>\n",
       "      <td>Politico/GWU/Battleground</td>\n",
       "      <td>2012-11-04</td>\n",
       "      <td>2012-11-05</td>\n",
       "      <td>2012-11-06T08:40:26Z</td>\n",
       "      <td>1000.0</td>\n",
       "      <td>Likely Voters</td>\n",
       "      <td>Live Phone</td>\n",
       "      <td>47.0</td>\n",
       "      <td>47.0</td>\n",
       "      <td>6.0</td>\n",
       "      <td>NaN</td>\n",
       "      <td>http://elections.huffingtonpost.com/pollster/p...</td>\n",
       "      <td>http://www.politico.com/news/stories/1112/8338...</td>\n",
       "      <td>Nonpartisan</td>\n",
       "      <td>NaN</td>\n",
       "      <td>NaN</td>\n",
       "      <td>1</td>\n",
       "      <td>No Party</td>\n",
       "      <td>0.00</td>\n",
       "    </tr>\n",
       "    <tr>\n",
       "      <th>1</th>\n",
       "      <td>YouGov/Economist</td>\n",
       "      <td>2012-11-03</td>\n",
       "      <td>2012-11-05</td>\n",
       "      <td>2012-11-26T15:31:23Z</td>\n",
       "      <td>740.0</td>\n",
       "      <td>Likely Voters</td>\n",
       "      <td>Internet</td>\n",
       "      <td>49.0</td>\n",
       "      <td>47.0</td>\n",
       "      <td>3.0</td>\n",
       "      <td>NaN</td>\n",
       "      <td>http://elections.huffingtonpost.com/pollster/p...</td>\n",
       "      <td>http://cdn.yougov.com/cumulus_uploads/document...</td>\n",
       "      <td>Nonpartisan</td>\n",
       "      <td>NaN</td>\n",
       "      <td>NaN</td>\n",
       "      <td>1</td>\n",
       "      <td>No Party</td>\n",
       "      <td>0.02</td>\n",
       "    </tr>\n",
       "    <tr>\n",
       "      <th>2</th>\n",
       "      <td>Gravis Marketing</td>\n",
       "      <td>2012-11-03</td>\n",
       "      <td>2012-11-05</td>\n",
       "      <td>2012-11-06T09:22:02Z</td>\n",
       "      <td>872.0</td>\n",
       "      <td>Likely Voters</td>\n",
       "      <td>Automated Phone</td>\n",
       "      <td>48.0</td>\n",
       "      <td>48.0</td>\n",
       "      <td>4.0</td>\n",
       "      <td>NaN</td>\n",
       "      <td>http://elections.huffingtonpost.com/pollster/p...</td>\n",
       "      <td>http://www.gravispolls.com/2012/11/gravis-mark...</td>\n",
       "      <td>Nonpartisan</td>\n",
       "      <td>NaN</td>\n",
       "      <td>NaN</td>\n",
       "      <td>1</td>\n",
       "      <td>No Party</td>\n",
       "      <td>0.00</td>\n",
       "    </tr>\n",
       "    <tr>\n",
       "      <th>3</th>\n",
       "      <td>IBD/TIPP</td>\n",
       "      <td>2012-11-03</td>\n",
       "      <td>2012-11-05</td>\n",
       "      <td>2012-11-06T08:51:48Z</td>\n",
       "      <td>712.0</td>\n",
       "      <td>Likely Voters</td>\n",
       "      <td>Live Phone</td>\n",
       "      <td>50.0</td>\n",
       "      <td>49.0</td>\n",
       "      <td>NaN</td>\n",
       "      <td>1.0</td>\n",
       "      <td>http://elections.huffingtonpost.com/pollster/p...</td>\n",
       "      <td>http://news.investors.com/special-report/50841...</td>\n",
       "      <td>Nonpartisan</td>\n",
       "      <td>NaN</td>\n",
       "      <td>NaN</td>\n",
       "      <td>1</td>\n",
       "      <td>No Party</td>\n",
       "      <td>0.01</td>\n",
       "    </tr>\n",
       "    <tr>\n",
       "      <th>4</th>\n",
       "      <td>Rasmussen</td>\n",
       "      <td>2012-11-03</td>\n",
       "      <td>2012-11-05</td>\n",
       "      <td>2012-11-06T08:47:50Z</td>\n",
       "      <td>1500.0</td>\n",
       "      <td>Likely Voters</td>\n",
       "      <td>Automated Phone</td>\n",
       "      <td>48.0</td>\n",
       "      <td>49.0</td>\n",
       "      <td>NaN</td>\n",
       "      <td>NaN</td>\n",
       "      <td>http://elections.huffingtonpost.com/pollster/p...</td>\n",
       "      <td>http://www.rasmussenreports.com/public_content...</td>\n",
       "      <td>Nonpartisan</td>\n",
       "      <td>NaN</td>\n",
       "      <td>NaN</td>\n",
       "      <td>1</td>\n",
       "      <td>No Party</td>\n",
       "      <td>-0.01</td>\n",
       "    </tr>\n",
       "    <tr>\n",
       "      <th>5</th>\n",
       "      <td>JZ Analytics/Newsmax</td>\n",
       "      <td>2012-11-03</td>\n",
       "      <td>2012-11-05</td>\n",
       "      <td>2012-11-06T07:38:41Z</td>\n",
       "      <td>1041.0</td>\n",
       "      <td>Likely Voters</td>\n",
       "      <td>Internet</td>\n",
       "      <td>47.0</td>\n",
       "      <td>47.0</td>\n",
       "      <td>6.0</td>\n",
       "      <td>NaN</td>\n",
       "      <td>http://elections.huffingtonpost.com/pollster/p...</td>\n",
       "      <td>http://www.jzanalytics.com/</td>\n",
       "      <td>Sponsor</td>\n",
       "      <td>Rep</td>\n",
       "      <td>NaN</td>\n",
       "      <td>1</td>\n",
       "      <td>Republican</td>\n",
       "      <td>0.00</td>\n",
       "    </tr>\n",
       "    <tr>\n",
       "      <th>6</th>\n",
       "      <td>UPI/CVOTER</td>\n",
       "      <td>2012-11-03</td>\n",
       "      <td>2012-11-05</td>\n",
       "      <td>2012-11-05T18:30:15Z</td>\n",
       "      <td>3000.0</td>\n",
       "      <td>Likely Voters</td>\n",
       "      <td>Live Phone</td>\n",
       "      <td>49.0</td>\n",
       "      <td>48.0</td>\n",
       "      <td>NaN</td>\n",
       "      <td>NaN</td>\n",
       "      <td>http://elections.huffingtonpost.com/pollster/p...</td>\n",
       "      <td>NaN</td>\n",
       "      <td>Nonpartisan</td>\n",
       "      <td>NaN</td>\n",
       "      <td>NaN</td>\n",
       "      <td>1</td>\n",
       "      <td>No Party</td>\n",
       "      <td>0.01</td>\n",
       "    </tr>\n",
       "    <tr>\n",
       "      <th>7</th>\n",
       "      <td>Ipsos/Reuters (Web)</td>\n",
       "      <td>2012-11-01</td>\n",
       "      <td>2012-11-05</td>\n",
       "      <td>2012-11-05T16:12:48Z</td>\n",
       "      <td>4725.0</td>\n",
       "      <td>Likely Voters</td>\n",
       "      <td>Internet</td>\n",
       "      <td>48.0</td>\n",
       "      <td>46.0</td>\n",
       "      <td>4.0</td>\n",
       "      <td>2.0</td>\n",
       "      <td>http://elections.huffingtonpost.com/pollster/p...</td>\n",
       "      <td>http://big.assets.huffingtonpost.com/ipsos1105...</td>\n",
       "      <td>Nonpartisan</td>\n",
       "      <td>NaN</td>\n",
       "      <td>NaN</td>\n",
       "      <td>1</td>\n",
       "      <td>No Party</td>\n",
       "      <td>0.02</td>\n",
       "    </tr>\n",
       "    <tr>\n",
       "      <th>8</th>\n",
       "      <td>ARG</td>\n",
       "      <td>2012-11-02</td>\n",
       "      <td>2012-11-04</td>\n",
       "      <td>2012-11-05T13:06:54Z</td>\n",
       "      <td>1200.0</td>\n",
       "      <td>Likely Voters</td>\n",
       "      <td>Live Phone</td>\n",
       "      <td>49.0</td>\n",
       "      <td>49.0</td>\n",
       "      <td>1.0</td>\n",
       "      <td>1.0</td>\n",
       "      <td>http://elections.huffingtonpost.com/pollster/p...</td>\n",
       "      <td>http://americanresearchgroup.com/pres2012/NA12...</td>\n",
       "      <td>Nonpartisan</td>\n",
       "      <td>NaN</td>\n",
       "      <td>NaN</td>\n",
       "      <td>1</td>\n",
       "      <td>No Party</td>\n",
       "      <td>0.00</td>\n",
       "    </tr>\n",
       "    <tr>\n",
       "      <th>9</th>\n",
       "      <td>PPP (D-Americans United for Change)</td>\n",
       "      <td>2012-11-02</td>\n",
       "      <td>2012-11-04</td>\n",
       "      <td>2012-11-04T22:32:19Z</td>\n",
       "      <td>1200.0</td>\n",
       "      <td>Likely Voters</td>\n",
       "      <td>Automated Phone</td>\n",
       "      <td>50.0</td>\n",
       "      <td>48.0</td>\n",
       "      <td>3.0</td>\n",
       "      <td>NaN</td>\n",
       "      <td>http://elections.huffingtonpost.com/pollster/p...</td>\n",
       "      <td>http://www.publicpolicypolling.com/pdf/2011/PP...</td>\n",
       "      <td>Sponsor</td>\n",
       "      <td>Dem</td>\n",
       "      <td>NaN</td>\n",
       "      <td>1</td>\n",
       "      <td>Democratic</td>\n",
       "      <td>0.02</td>\n",
       "    </tr>\n",
       "  </tbody>\n",
       "</table>\n",
       "</div>"
      ],
      "text/plain": [
       "                              Pollster  Start Date    End Date  \\\n",
       "0            Politico/GWU/Battleground  2012-11-04  2012-11-05   \n",
       "1                     YouGov/Economist  2012-11-03  2012-11-05   \n",
       "2                     Gravis Marketing  2012-11-03  2012-11-05   \n",
       "3                             IBD/TIPP  2012-11-03  2012-11-05   \n",
       "4                            Rasmussen  2012-11-03  2012-11-05   \n",
       "5                 JZ Analytics/Newsmax  2012-11-03  2012-11-05   \n",
       "6                           UPI/CVOTER  2012-11-03  2012-11-05   \n",
       "7                  Ipsos/Reuters (Web)  2012-11-01  2012-11-05   \n",
       "8                                  ARG  2012-11-02  2012-11-04   \n",
       "9  PPP (D-Americans United for Change)  2012-11-02  2012-11-04   \n",
       "\n",
       "   Entry Date/Time (ET)  Number of Observations     Population  \\\n",
       "0  2012-11-06T08:40:26Z                  1000.0  Likely Voters   \n",
       "1  2012-11-26T15:31:23Z                   740.0  Likely Voters   \n",
       "2  2012-11-06T09:22:02Z                   872.0  Likely Voters   \n",
       "3  2012-11-06T08:51:48Z                   712.0  Likely Voters   \n",
       "4  2012-11-06T08:47:50Z                  1500.0  Likely Voters   \n",
       "5  2012-11-06T07:38:41Z                  1041.0  Likely Voters   \n",
       "6  2012-11-05T18:30:15Z                  3000.0  Likely Voters   \n",
       "7  2012-11-05T16:12:48Z                  4725.0  Likely Voters   \n",
       "8  2012-11-05T13:06:54Z                  1200.0  Likely Voters   \n",
       "9  2012-11-04T22:32:19Z                  1200.0  Likely Voters   \n",
       "\n",
       "              Mode  Obama  Romney  Undecided  Other  \\\n",
       "0       Live Phone   47.0    47.0        6.0    NaN   \n",
       "1         Internet   49.0    47.0        3.0    NaN   \n",
       "2  Automated Phone   48.0    48.0        4.0    NaN   \n",
       "3       Live Phone   50.0    49.0        NaN    1.0   \n",
       "4  Automated Phone   48.0    49.0        NaN    NaN   \n",
       "5         Internet   47.0    47.0        6.0    NaN   \n",
       "6       Live Phone   49.0    48.0        NaN    NaN   \n",
       "7         Internet   48.0    46.0        4.0    2.0   \n",
       "8       Live Phone   49.0    49.0        1.0    1.0   \n",
       "9  Automated Phone   50.0    48.0        3.0    NaN   \n",
       "\n",
       "                                        Pollster URL  \\\n",
       "0  http://elections.huffingtonpost.com/pollster/p...   \n",
       "1  http://elections.huffingtonpost.com/pollster/p...   \n",
       "2  http://elections.huffingtonpost.com/pollster/p...   \n",
       "3  http://elections.huffingtonpost.com/pollster/p...   \n",
       "4  http://elections.huffingtonpost.com/pollster/p...   \n",
       "5  http://elections.huffingtonpost.com/pollster/p...   \n",
       "6  http://elections.huffingtonpost.com/pollster/p...   \n",
       "7  http://elections.huffingtonpost.com/pollster/p...   \n",
       "8  http://elections.huffingtonpost.com/pollster/p...   \n",
       "9  http://elections.huffingtonpost.com/pollster/p...   \n",
       "\n",
       "                                          Source URL     Partisan Affiliation  \\\n",
       "0  http://www.politico.com/news/stories/1112/8338...  Nonpartisan         NaN   \n",
       "1  http://cdn.yougov.com/cumulus_uploads/document...  Nonpartisan         NaN   \n",
       "2  http://www.gravispolls.com/2012/11/gravis-mark...  Nonpartisan         NaN   \n",
       "3  http://news.investors.com/special-report/50841...  Nonpartisan         NaN   \n",
       "4  http://www.rasmussenreports.com/public_content...  Nonpartisan         NaN   \n",
       "5                        http://www.jzanalytics.com/      Sponsor         Rep   \n",
       "6                                                NaN  Nonpartisan         NaN   \n",
       "7  http://big.assets.huffingtonpost.com/ipsos1105...  Nonpartisan         NaN   \n",
       "8  http://americanresearchgroup.com/pres2012/NA12...  Nonpartisan         NaN   \n",
       "9  http://www.publicpolicypolling.com/pdf/2011/PP...      Sponsor         Dem   \n",
       "\n",
       "   Question Text  Question Iteration   Adj_Party  Vote_diff  \n",
       "0            NaN                   1    No Party       0.00  \n",
       "1            NaN                   1    No Party       0.02  \n",
       "2            NaN                   1    No Party       0.00  \n",
       "3            NaN                   1    No Party       0.01  \n",
       "4            NaN                   1    No Party      -0.01  \n",
       "5            NaN                   1  Republican       0.00  \n",
       "6            NaN                   1    No Party       0.01  \n",
       "7            NaN                   1    No Party       0.02  \n",
       "8            NaN                   1    No Party       0.00  \n",
       "9            NaN                   1  Democratic       0.02  "
      ]
     },
     "execution_count": 47,
     "metadata": {},
     "output_type": "execute_result"
    }
   ],
   "source": [
    "poll_df.head(10)"
   ]
  },
  {
   "cell_type": "code",
   "execution_count": 48,
   "id": "085c0b61-f3c4-4feb-bbc8-79a306c9ccd6",
   "metadata": {},
   "outputs": [],
   "source": [
    "# positive difference indicates a leaning toward Obama favor while negative difference means a leaning toward Romney"
   ]
  },
  {
   "cell_type": "code",
   "execution_count": null,
   "id": "d17fb6f3-c720-4edf-8f4e-006312642ea3",
   "metadata": {},
   "outputs": [],
   "source": []
  },
  {
   "cell_type": "code",
   "execution_count": null,
   "id": "a0398ac1-8087-40de-aca5-b99b44137b3f",
   "metadata": {},
   "outputs": [],
   "source": []
  },
  {
   "cell_type": "code",
   "execution_count": null,
   "id": "13cf46a0-4da7-408a-8f83-1452ec29604f",
   "metadata": {},
   "outputs": [],
   "source": []
  },
  {
   "cell_type": "code",
   "execution_count": null,
   "id": "877fddf4-cf20-42c3-9c07-236716c7e6b1",
   "metadata": {},
   "outputs": [],
   "source": []
  },
  {
   "cell_type": "code",
   "execution_count": null,
   "id": "9975da7f-cec9-42d2-beef-758a5edc0c7d",
   "metadata": {},
   "outputs": [],
   "source": []
  },
  {
   "cell_type": "code",
   "execution_count": null,
   "id": "db3891b1-d2eb-47b0-8aa1-dd38e6fb4fce",
   "metadata": {},
   "outputs": [],
   "source": []
  },
  {
   "cell_type": "code",
   "execution_count": null,
   "id": "60454798-9087-4346-9a34-66ea7891111b",
   "metadata": {},
   "outputs": [],
   "source": []
  },
  {
   "cell_type": "code",
   "execution_count": null,
   "id": "77a3be18-1324-4b30-b06e-8806801bf36c",
   "metadata": {},
   "outputs": [],
   "source": []
  },
  {
   "cell_type": "code",
   "execution_count": null,
   "id": "54fb0053-fcf3-404d-ac94-016900cab6ab",
   "metadata": {},
   "outputs": [],
   "source": []
  },
  {
   "cell_type": "code",
   "execution_count": null,
   "id": "70b5e2c6-694d-49e0-966c-b15f186b0501",
   "metadata": {},
   "outputs": [],
   "source": []
  },
  {
   "cell_type": "code",
   "execution_count": null,
   "id": "b8140934-9634-4df5-bd52-93ff0275b8d8",
   "metadata": {},
   "outputs": [],
   "source": []
  },
  {
   "cell_type": "code",
   "execution_count": null,
   "id": "62d88ae3-85d2-4b41-aa14-4b7c6762983a",
   "metadata": {},
   "outputs": [],
   "source": []
  },
  {
   "cell_type": "code",
   "execution_count": null,
   "id": "d119d06a-14ae-44fb-ab1a-9df32eb14b01",
   "metadata": {},
   "outputs": [],
   "source": []
  },
  {
   "cell_type": "code",
   "execution_count": null,
   "id": "569a7cc6-b9c2-4710-a311-64a3401de425",
   "metadata": {},
   "outputs": [],
   "source": []
  },
  {
   "cell_type": "code",
   "execution_count": null,
   "id": "65f8da1f-526b-450d-a66d-3bcfcfb705de",
   "metadata": {},
   "outputs": [],
   "source": []
  },
  {
   "cell_type": "code",
   "execution_count": null,
   "id": "b79218a3-27fe-443d-91f2-651c1a05b5bd",
   "metadata": {},
   "outputs": [],
   "source": []
  },
  {
   "cell_type": "code",
   "execution_count": null,
   "id": "0bc24516-8651-4332-bde4-4271b9a7fe3e",
   "metadata": {},
   "outputs": [],
   "source": []
  },
  {
   "cell_type": "code",
   "execution_count": null,
   "id": "fbac7b97-5df3-4e8b-bbd9-3b7e549ed1af",
   "metadata": {},
   "outputs": [],
   "source": []
  },
  {
   "cell_type": "code",
   "execution_count": 56,
   "id": "10ff2a70-306e-46f4-985b-169422ffb033",
   "metadata": {},
   "outputs": [],
   "source": [
    "# we use groupby to group the poll by their start date\n",
    "\n",
    "poll_df = poll_df.groupby(by =[\"Start Date\"], dropna= True, as_index = False).mean(numeric_only = True)\n",
    "# as_index = False mean to keep the current index number 1, 2, 3, 4,..."
   ]
  },
  {
   "cell_type": "code",
   "execution_count": 58,
   "id": "7659244a-ebc8-41ee-a415-65011a8138aa",
   "metadata": {},
   "outputs": [
    {
     "data": {
      "text/html": [
       "<div>\n",
       "<style scoped>\n",
       "    .dataframe tbody tr th:only-of-type {\n",
       "        vertical-align: middle;\n",
       "    }\n",
       "\n",
       "    .dataframe tbody tr th {\n",
       "        vertical-align: top;\n",
       "    }\n",
       "\n",
       "    .dataframe thead th {\n",
       "        text-align: right;\n",
       "    }\n",
       "</style>\n",
       "<table border=\"1\" class=\"dataframe\">\n",
       "  <thead>\n",
       "    <tr style=\"text-align: right;\">\n",
       "      <th></th>\n",
       "      <th>Start Date</th>\n",
       "      <th>Number of Observations</th>\n",
       "      <th>Obama</th>\n",
       "      <th>Romney</th>\n",
       "      <th>Undecided</th>\n",
       "      <th>Other</th>\n",
       "      <th>Question Text</th>\n",
       "      <th>Question Iteration</th>\n",
       "      <th>Vote_diff</th>\n",
       "    </tr>\n",
       "  </thead>\n",
       "  <tbody>\n",
       "    <tr>\n",
       "      <th>0</th>\n",
       "      <td>2009-03-13</td>\n",
       "      <td>1403.0</td>\n",
       "      <td>44.0</td>\n",
       "      <td>44.0</td>\n",
       "      <td>12.0</td>\n",
       "      <td>NaN</td>\n",
       "      <td>NaN</td>\n",
       "      <td>1.0</td>\n",
       "      <td>0.00</td>\n",
       "    </tr>\n",
       "    <tr>\n",
       "      <th>1</th>\n",
       "      <td>2009-04-17</td>\n",
       "      <td>686.0</td>\n",
       "      <td>50.0</td>\n",
       "      <td>39.0</td>\n",
       "      <td>11.0</td>\n",
       "      <td>NaN</td>\n",
       "      <td>NaN</td>\n",
       "      <td>1.0</td>\n",
       "      <td>0.11</td>\n",
       "    </tr>\n",
       "    <tr>\n",
       "      <th>2</th>\n",
       "      <td>2009-05-14</td>\n",
       "      <td>1000.0</td>\n",
       "      <td>53.0</td>\n",
       "      <td>35.0</td>\n",
       "      <td>12.0</td>\n",
       "      <td>NaN</td>\n",
       "      <td>NaN</td>\n",
       "      <td>1.0</td>\n",
       "      <td>0.18</td>\n",
       "    </tr>\n",
       "    <tr>\n",
       "      <th>3</th>\n",
       "      <td>2009-06-12</td>\n",
       "      <td>638.0</td>\n",
       "      <td>48.0</td>\n",
       "      <td>40.0</td>\n",
       "      <td>12.0</td>\n",
       "      <td>NaN</td>\n",
       "      <td>NaN</td>\n",
       "      <td>1.0</td>\n",
       "      <td>0.08</td>\n",
       "    </tr>\n",
       "    <tr>\n",
       "      <th>4</th>\n",
       "      <td>2009-07-15</td>\n",
       "      <td>577.0</td>\n",
       "      <td>49.0</td>\n",
       "      <td>40.0</td>\n",
       "      <td>11.0</td>\n",
       "      <td>NaN</td>\n",
       "      <td>NaN</td>\n",
       "      <td>1.0</td>\n",
       "      <td>0.09</td>\n",
       "    </tr>\n",
       "    <tr>\n",
       "      <th>5</th>\n",
       "      <td>2009-07-18</td>\n",
       "      <td>1000.0</td>\n",
       "      <td>45.0</td>\n",
       "      <td>45.0</td>\n",
       "      <td>3.0</td>\n",
       "      <td>7.0</td>\n",
       "      <td>NaN</td>\n",
       "      <td>1.0</td>\n",
       "      <td>0.00</td>\n",
       "    </tr>\n",
       "    <tr>\n",
       "      <th>6</th>\n",
       "      <td>2009-08-14</td>\n",
       "      <td>956.0</td>\n",
       "      <td>47.0</td>\n",
       "      <td>39.0</td>\n",
       "      <td>13.5</td>\n",
       "      <td>NaN</td>\n",
       "      <td>NaN</td>\n",
       "      <td>1.0</td>\n",
       "      <td>0.08</td>\n",
       "    </tr>\n",
       "    <tr>\n",
       "      <th>7</th>\n",
       "      <td>2009-09-21</td>\n",
       "      <td>621.0</td>\n",
       "      <td>48.0</td>\n",
       "      <td>39.0</td>\n",
       "      <td>13.0</td>\n",
       "      <td>NaN</td>\n",
       "      <td>NaN</td>\n",
       "      <td>1.0</td>\n",
       "      <td>0.09</td>\n",
       "    </tr>\n",
       "    <tr>\n",
       "      <th>8</th>\n",
       "      <td>2009-10-16</td>\n",
       "      <td>766.0</td>\n",
       "      <td>48.0</td>\n",
       "      <td>40.0</td>\n",
       "      <td>12.0</td>\n",
       "      <td>NaN</td>\n",
       "      <td>NaN</td>\n",
       "      <td>1.0</td>\n",
       "      <td>0.08</td>\n",
       "    </tr>\n",
       "    <tr>\n",
       "      <th>9</th>\n",
       "      <td>2009-11-13</td>\n",
       "      <td>1066.0</td>\n",
       "      <td>48.0</td>\n",
       "      <td>43.0</td>\n",
       "      <td>9.0</td>\n",
       "      <td>NaN</td>\n",
       "      <td>NaN</td>\n",
       "      <td>1.0</td>\n",
       "      <td>0.05</td>\n",
       "    </tr>\n",
       "  </tbody>\n",
       "</table>\n",
       "</div>"
      ],
      "text/plain": [
       "   Start Date  Number of Observations  Obama  Romney  Undecided  Other  \\\n",
       "0  2009-03-13                  1403.0   44.0    44.0       12.0    NaN   \n",
       "1  2009-04-17                   686.0   50.0    39.0       11.0    NaN   \n",
       "2  2009-05-14                  1000.0   53.0    35.0       12.0    NaN   \n",
       "3  2009-06-12                   638.0   48.0    40.0       12.0    NaN   \n",
       "4  2009-07-15                   577.0   49.0    40.0       11.0    NaN   \n",
       "5  2009-07-18                  1000.0   45.0    45.0        3.0    7.0   \n",
       "6  2009-08-14                   956.0   47.0    39.0       13.5    NaN   \n",
       "7  2009-09-21                   621.0   48.0    39.0       13.0    NaN   \n",
       "8  2009-10-16                   766.0   48.0    40.0       12.0    NaN   \n",
       "9  2009-11-13                  1066.0   48.0    43.0        9.0    NaN   \n",
       "\n",
       "   Question Text  Question Iteration  Vote_diff  \n",
       "0            NaN                 1.0       0.00  \n",
       "1            NaN                 1.0       0.11  \n",
       "2            NaN                 1.0       0.18  \n",
       "3            NaN                 1.0       0.08  \n",
       "4            NaN                 1.0       0.09  \n",
       "5            NaN                 1.0       0.00  \n",
       "6            NaN                 1.0       0.08  \n",
       "7            NaN                 1.0       0.09  \n",
       "8            NaN                 1.0       0.08  \n",
       "9            NaN                 1.0       0.05  "
      ]
     },
     "execution_count": 58,
     "metadata": {},
     "output_type": "execute_result"
    }
   ],
   "source": [
    "poll_df.head(10)"
   ]
  },
  {
   "cell_type": "code",
   "execution_count": 59,
   "id": "57f319ae-2bab-4ba9-875a-b7b983966356",
   "metadata": {},
   "outputs": [
    {
     "data": {
      "text/plain": [
       "<Axes: xlabel='Start Date'>"
      ]
     },
     "execution_count": 59,
     "metadata": {},
     "output_type": "execute_result"
    }
   ],
   "source": [
    "poll_df.plot(\"Start Date\", \"Vote_diff\", figsize = (12,4), marker ='o', linestyle = '-')"
   ]
  },
  {
   "cell_type": "code",
   "execution_count": 60,
   "id": "74775cde-78d8-41fe-9185-7f10356c68bf",
   "metadata": {},
   "outputs": [
    {
     "data": {
      "image/png": "[encoded data removed]",
      "text/plain": [
       "<Figure size 1200x400 with 1 Axes>"
      ]
     },
     "metadata": {},
     "output_type": "display_data"
    }
   ],
   "source": [
    "plt.show()"
   ]
  },
  {
   "cell_type": "code",
   "execution_count": null,
   "id": "d2d8ecc2-f610-417f-badc-01fde3c44f98",
   "metadata": {},
   "outputs": [],
   "source": [
    "# With the graph above, it looks like that Obama was on the lead for most of the past 3 years\n",
    "\n",
    "# There were 2 significant marks for Romney, indicate something had happened that lead to his 2 wins on this poll\n",
    "# and we notice also that the gap in difference in percentage was getting smaller and smaller"
   ]
  },
  {
   "cell_type": "code",
   "execution_count": 64,
   "id": "90976b8c-f565-4268-ad87-94871bf4ac6c",
   "metadata": {},
   "outputs": [
    {
     "data": {
      "text/plain": [
       "0.03763967687217694"
      ]
     },
     "execution_count": 64,
     "metadata": {},
     "output_type": "execute_result"
    }
   ],
   "source": [
    "poll_df.Vote_diff.std()"
   ]
  },
  {
   "cell_type": "code",
   "execution_count": 67,
   "id": "f5928fc2-a19d-4287-b74c-8f1d9cd6d1d9",
   "metadata": {},
   "outputs": [],
   "source": [
    "# we could also analyse the pattern of voter sentiment after specific debates (Oct 3rd, 11th, 22nd of 2012)\n",
    "\n",
    "# we gonna mark down those debates and plot some lines as marker, and investigate the one month those debate took placed"
   ]
  },
  {
   "cell_type": "code",
   "execution_count": 68,
   "id": "80c1c767-d4ef-4ecf-b5df-775c2141664f",
   "metadata": {},
   "outputs": [],
   "source": [
    "# we need to find the index for the month of octorber 2012"
   ]
  },
  {
   "cell_type": "code",
   "execution_count": 72,
   "id": "cc03cb63-1df3-426e-9c90-1ea5b261162f",
   "metadata": {},
   "outputs": [],
   "source": [
    "row_index = 0\n",
    "index_oct = []\n",
    "\n",
    "for date in poll_df[\"Start Date\"]:\n",
    "    # so we loop through the column \"Start Date\"\n",
    "    # set up condition, 7 letters = 2012-10\n",
    "    if date[0:7] == \"2012-10\":\n",
    "        # go and append to the list the row index\n",
    "        index_oct.append(row_index)\n",
    "        # add 1 to keep my count going\n",
    "        row_index += 1\n",
    "    else:\n",
    "        # if not, just add 1 to my row index\n",
    "        row_index += 1"
   ]
  },
  {
   "cell_type": "code",
   "execution_count": 73,
   "id": "57437c22-61b4-4988-aad7-b2c11bab6a9c",
   "metadata": {},
   "outputs": [
    {
     "name": "stdout",
     "output_type": "stream",
     "text": [
      "329\n",
      "356\n"
     ]
    }
   ],
   "source": [
    "print(min(index_oct))\n",
    "print(max(index_oct))"
   ]
  },
  {
   "cell_type": "code",
   "execution_count": 81,
   "id": "f8fbb92f-c51e-47ad-a226-006bce34bf16",
   "metadata": {},
   "outputs": [
    {
     "data": {
      "text/plain": [
       "<matplotlib.lines.Line2D at 0x1f82ad8d760>"
      ]
     },
     "execution_count": 81,
     "metadata": {},
     "output_type": "execute_result"
    }
   ],
   "source": [
    "# the same code but we can set xlimit for the month octorber\n",
    "\n",
    "poll_df.plot(\"Start Date\", \"Vote_diff\", figsize = (12,4), marker ='o', linestyle = '-', xlim = (329,356))\n",
    "# set up the marker\n",
    "\n",
    "# Oct 3rd\n",
    "plt.axvline(x = 329 + 2, linewidth = 4, color = \"indianred\")\n",
    "\n",
    "# Oct 11th\n",
    "\n",
    "plt.axvline(x = 329 + 10, linewidth = 4, color = \"indianred\")\n",
    "\n",
    "# Oct 22nd\n",
    "plt.axvline(x = 329 + 21, linewidth = 4, color = \"indianred\")"
   ]
  },
  {
   "cell_type": "code",
   "execution_count": 82,
   "id": "fcd5a32f-9bac-4963-bcc6-ee97ed9a4249",
   "metadata": {},
   "outputs": [
    {
     "data": {
      "image/png": "[encoded data removed]",
      "text/plain": [
       "<Figure size 1200x400 with 1 Axes>"
      ]
     },
     "metadata": {},
     "output_type": "display_data"
    }
   ],
   "source": [
    "plt.show()"
   ]
  },
  {
   "cell_type": "code",
   "execution_count": 83,
   "id": "85e956f0-c133-4228-a498-b41befec6323",
   "metadata": {},
   "outputs": [],
   "source": [
    "# We notice that after the 1st debate, sentiment for Obama increased, even though he had performed poorly on his first debate\n",
    "\n",
    "# After the 2nd debate, Romney was more favorable as the stat shows the poll in leaned toward Romney\n",
    "\n",
    "# After the 3rd debate, the poll seemed to be even. \n",
    "\n",
    "# It is important to remember that there were lots of factors influenced people at the poll and their sentiment"
   ]
  },
  {
   "cell_type": "code",
   "execution_count": null,
   "id": "dfd5a118-fd31-477f-83ed-2f2a8602a230",
   "metadata": {},
   "outputs": [],
   "source": []
  }
 ],
 "metadata": {
  "kernelspec": {
   "display_name": "Python 3 (ipykernel)",
   "language": "python",
   "name": "python3"
  },
  "language_info": {
   "codemirror_mode": {
    "name": "ipython",
    "version": 3
   },
   "file_extension": ".py",
   "mimetype": "text/x-python",
   "name": "python",
   "nbconvert_exporter": "python",
   "pygments_lexer": "ipython3",
   "version": "3.12.7"
  }
 },
 "nbformat": 4,
 "nbformat_minor": 5
}
